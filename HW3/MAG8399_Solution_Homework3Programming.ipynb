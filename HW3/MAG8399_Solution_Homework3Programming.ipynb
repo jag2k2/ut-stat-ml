{
 "cells": [
  {
   "cell_type": "markdown",
   "metadata": {
    "id": "xFMSS-w7NhAT"
   },
   "source": [
    "#### <p style=\"text-align: center;\">EE 381V: Statistical Machine Learning</p>\n",
    "# <p style=\"text-align: center;\">Homework 3: Programming Assignments</p>\n",
    "## <p style=\"text-align: center;\">Total points: 85  </p>\n",
    "## <p style=\"text-align: center;\">Due: April 5 by 11:59 pm (submission via Gradescope)</p>\n",
    "\n",
    "Ideally, your solution to the assignments should be written in and submitted as a **Jupyter notebook**. Please make sure your code runs and the graphics (along with anything else that you want to be considered) are displayed in your notebook before submitting.\n",
    "\n",
    "For the theoretical parts of the questions below (e.g., computation of gradients), the most convenient approach is to type the solution in the provided spaces (\"Markdown\" cells) using LaTeX (if not familiar with LaTeX, please check the markdown cells below stating questions for examples of writing equations in LaTeX). Alternatively, you could write down the solution on paper and submit a pdf file of the scan/photo."
   ]
  },
  {
   "cell_type": "markdown",
   "metadata": {
    "id": "8Q_u3dOwNhAV"
   },
   "source": [
    "# <font color='blue'> Problem 1: Random Forest (22 pts) </font>"
   ]
  },
  {
   "cell_type": "markdown",
   "metadata": {
    "id": "fJwLdR91NhAW"
   },
   "source": [
    "The goal of this problem is to explore the effect of feature selection using dataset 'loan.csv'."
   ]
  },
  {
   "cell_type": "markdown",
   "metadata": {
    "id": "SuqSK-ZfNhAW"
   },
   "source": [
    "Select the `loan_status` column as the target column.  \n",
    "\n",
    "\n",
    "**Part 1: (4 pts)** Split the dataset into train and test set with 25% data in test set and random_state = 42. Perform [Min-Max Scaling](https://scikit-learn.org/stable/modules/generated/sklearn.preprocessing.MinMaxScaler.html) on the dataset. Print the total number of features.\n",
    "\n",
    "**Part 2: (4 pts)** Use the dataset to create a `RandomForestClassifier(n_estimators=5, random_state=42)` model and print the [classification_report](https://scikit-learn.org/stable/modules/generated/sklearn.metrics.classification_report.html) to show the precision, recall and F1 score based on the test set.  \n",
    "\n",
    "\n",
    "**Part 3: (4 pts)** Use $\\chi^2$ test to select the top 100, 30 and 10 features using [SelectKBest](https://scikit-learn.org/stable/modules/feature_selection.html#univariate-feature-selection) module. Train a random forest model and print the [classification_report](https://scikit-learn.org/stable/modules/generated/sklearn.metrics.classification_report.html) for each of the trained models.  \n",
    "\n",
    "**Note:** $\\chi^2$ test requires non-negative values only for all features. Since we have performed Min-Max scaling previously (where the default behavior is to scale features between 0 and 1, there should not be any problem performing this test.)   \n",
    "\n",
    "**Part 4: (5 pts)** [Plot the ROC curves](https://github.com/justmarkham/scikit-learn-tips/blob/master/notebooks/21_plot_roc_curve.ipynb) for all of the 4 models.  \n",
    "\n",
    "**Part 5: (5 pts)** Plot the feature importance for each of the 4 random forest models that you have trained to show the top 5 features. ([Get feature names after feature selection](https://stackoverflow.com/a/43765224), [Plot feature importance using Pandas and matplotlib](https://stackoverflow.com/a/51520906))"
   ]
  },
  {
   "cell_type": "code",
   "execution_count": null,
   "metadata": {
    "colab": {
     "base_uri": "https://localhost:8080/",
     "height": 74
    },
    "executionInfo": {
     "elapsed": 410086,
     "status": "ok",
     "timestamp": 1710702006842,
     "user": {
      "displayName": "Miguel A Gomez De Franco",
      "userId": "00945378091175456648"
     },
     "user_tz": 300
    },
    "id": "tV2PVLGywbH5",
    "outputId": "5d488447-24b2-44ef-d42f-898efa03da6b"
   },
   "outputs": [
    {
     "data": {
      "text/html": [
       "\n",
       "     <input type=\"file\" id=\"files-2f8d2839-c7dd-4b7b-9b5d-82a7d1edc98e\" name=\"files[]\" multiple disabled\n",
       "        style=\"border:none\" />\n",
       "     <output id=\"result-2f8d2839-c7dd-4b7b-9b5d-82a7d1edc98e\">\n",
       "      Upload widget is only available when the cell has been executed in the\n",
       "      current browser session. Please rerun this cell to enable.\n",
       "      </output>\n",
       "      <script>// Copyright 2017 Google LLC\n",
       "//\n",
       "// Licensed under the Apache License, Version 2.0 (the \"License\");\n",
       "// you may not use this file except in compliance with the License.\n",
       "// You may obtain a copy of the License at\n",
       "//\n",
       "//      http://www.apache.org/licenses/LICENSE-2.0\n",
       "//\n",
       "// Unless required by applicable law or agreed to in writing, software\n",
       "// distributed under the License is distributed on an \"AS IS\" BASIS,\n",
       "// WITHOUT WARRANTIES OR CONDITIONS OF ANY KIND, either express or implied.\n",
       "// See the License for the specific language governing permissions and\n",
       "// limitations under the License.\n",
       "\n",
       "/**\n",
       " * @fileoverview Helpers for google.colab Python module.\n",
       " */\n",
       "(function(scope) {\n",
       "function span(text, styleAttributes = {}) {\n",
       "  const element = document.createElement('span');\n",
       "  element.textContent = text;\n",
       "  for (const key of Object.keys(styleAttributes)) {\n",
       "    element.style[key] = styleAttributes[key];\n",
       "  }\n",
       "  return element;\n",
       "}\n",
       "\n",
       "// Max number of bytes which will be uploaded at a time.\n",
       "const MAX_PAYLOAD_SIZE = 100 * 1024;\n",
       "\n",
       "function _uploadFiles(inputId, outputId) {\n",
       "  const steps = uploadFilesStep(inputId, outputId);\n",
       "  const outputElement = document.getElementById(outputId);\n",
       "  // Cache steps on the outputElement to make it available for the next call\n",
       "  // to uploadFilesContinue from Python.\n",
       "  outputElement.steps = steps;\n",
       "\n",
       "  return _uploadFilesContinue(outputId);\n",
       "}\n",
       "\n",
       "// This is roughly an async generator (not supported in the browser yet),\n",
       "// where there are multiple asynchronous steps and the Python side is going\n",
       "// to poll for completion of each step.\n",
       "// This uses a Promise to block the python side on completion of each step,\n",
       "// then passes the result of the previous step as the input to the next step.\n",
       "function _uploadFilesContinue(outputId) {\n",
       "  const outputElement = document.getElementById(outputId);\n",
       "  const steps = outputElement.steps;\n",
       "\n",
       "  const next = steps.next(outputElement.lastPromiseValue);\n",
       "  return Promise.resolve(next.value.promise).then((value) => {\n",
       "    // Cache the last promise value to make it available to the next\n",
       "    // step of the generator.\n",
       "    outputElement.lastPromiseValue = value;\n",
       "    return next.value.response;\n",
       "  });\n",
       "}\n",
       "\n",
       "/**\n",
       " * Generator function which is called between each async step of the upload\n",
       " * process.\n",
       " * @param {string} inputId Element ID of the input file picker element.\n",
       " * @param {string} outputId Element ID of the output display.\n",
       " * @return {!Iterable<!Object>} Iterable of next steps.\n",
       " */\n",
       "function* uploadFilesStep(inputId, outputId) {\n",
       "  const inputElement = document.getElementById(inputId);\n",
       "  inputElement.disabled = false;\n",
       "\n",
       "  const outputElement = document.getElementById(outputId);\n",
       "  outputElement.innerHTML = '';\n",
       "\n",
       "  const pickedPromise = new Promise((resolve) => {\n",
       "    inputElement.addEventListener('change', (e) => {\n",
       "      resolve(e.target.files);\n",
       "    });\n",
       "  });\n",
       "\n",
       "  const cancel = document.createElement('button');\n",
       "  inputElement.parentElement.appendChild(cancel);\n",
       "  cancel.textContent = 'Cancel upload';\n",
       "  const cancelPromise = new Promise((resolve) => {\n",
       "    cancel.onclick = () => {\n",
       "      resolve(null);\n",
       "    };\n",
       "  });\n",
       "\n",
       "  // Wait for the user to pick the files.\n",
       "  const files = yield {\n",
       "    promise: Promise.race([pickedPromise, cancelPromise]),\n",
       "    response: {\n",
       "      action: 'starting',\n",
       "    }\n",
       "  };\n",
       "\n",
       "  cancel.remove();\n",
       "\n",
       "  // Disable the input element since further picks are not allowed.\n",
       "  inputElement.disabled = true;\n",
       "\n",
       "  if (!files) {\n",
       "    return {\n",
       "      response: {\n",
       "        action: 'complete',\n",
       "      }\n",
       "    };\n",
       "  }\n",
       "\n",
       "  for (const file of files) {\n",
       "    const li = document.createElement('li');\n",
       "    li.append(span(file.name, {fontWeight: 'bold'}));\n",
       "    li.append(span(\n",
       "        `(${file.type || 'n/a'}) - ${file.size} bytes, ` +\n",
       "        `last modified: ${\n",
       "            file.lastModifiedDate ? file.lastModifiedDate.toLocaleDateString() :\n",
       "                                    'n/a'} - `));\n",
       "    const percent = span('0% done');\n",
       "    li.appendChild(percent);\n",
       "\n",
       "    outputElement.appendChild(li);\n",
       "\n",
       "    const fileDataPromise = new Promise((resolve) => {\n",
       "      const reader = new FileReader();\n",
       "      reader.onload = (e) => {\n",
       "        resolve(e.target.result);\n",
       "      };\n",
       "      reader.readAsArrayBuffer(file);\n",
       "    });\n",
       "    // Wait for the data to be ready.\n",
       "    let fileData = yield {\n",
       "      promise: fileDataPromise,\n",
       "      response: {\n",
       "        action: 'continue',\n",
       "      }\n",
       "    };\n",
       "\n",
       "    // Use a chunked sending to avoid message size limits. See b/62115660.\n",
       "    let position = 0;\n",
       "    do {\n",
       "      const length = Math.min(fileData.byteLength - position, MAX_PAYLOAD_SIZE);\n",
       "      const chunk = new Uint8Array(fileData, position, length);\n",
       "      position += length;\n",
       "\n",
       "      const base64 = btoa(String.fromCharCode.apply(null, chunk));\n",
       "      yield {\n",
       "        response: {\n",
       "          action: 'append',\n",
       "          file: file.name,\n",
       "          data: base64,\n",
       "        },\n",
       "      };\n",
       "\n",
       "      let percentDone = fileData.byteLength === 0 ?\n",
       "          100 :\n",
       "          Math.round((position / fileData.byteLength) * 100);\n",
       "      percent.textContent = `${percentDone}% done`;\n",
       "\n",
       "    } while (position < fileData.byteLength);\n",
       "  }\n",
       "\n",
       "  // All done.\n",
       "  yield {\n",
       "    response: {\n",
       "      action: 'complete',\n",
       "    }\n",
       "  };\n",
       "}\n",
       "\n",
       "scope.google = scope.google || {};\n",
       "scope.google.colab = scope.google.colab || {};\n",
       "scope.google.colab._files = {\n",
       "  _uploadFiles,\n",
       "  _uploadFilesContinue,\n",
       "};\n",
       "})(self);\n",
       "</script> "
      ],
      "text/plain": [
       "<IPython.core.display.HTML object>"
      ]
     },
     "metadata": {},
     "output_type": "display_data"
    },
    {
     "name": "stdout",
     "output_type": "stream",
     "text": [
      "Saving loan.csv to loan.csv\n"
     ]
    }
   ],
   "source": [
    "# Adding this cell to upload loan file from canvas\n",
    "from google.colab import files\n",
    "uploaded = files.upload()"
   ]
  },
  {
   "cell_type": "code",
   "execution_count": null,
   "metadata": {
    "colab": {
     "base_uri": "https://localhost:8080/",
     "height": 309
    },
    "executionInfo": {
     "elapsed": 7517,
     "status": "ok",
     "timestamp": 1710703507210,
     "user": {
      "displayName": "Miguel A Gomez De Franco",
      "userId": "00945378091175456648"
     },
     "user_tz": 300
    },
    "id": "KHS83KtuNhAW",
    "outputId": "a171ca8d-0c27-43e9-e379-4159596a5412"
   },
   "outputs": [
    {
     "name": "stderr",
     "output_type": "stream",
     "text": [
      "<ipython-input-6-e5e40a09f5ea>:7: DtypeWarning: Columns (123,124,125,128,129,130,133,139,140,141) have mixed types. Specify dtype option on import or set low_memory=False.\n",
      "  dataset = pd.read_csv('loan.csv')\n"
     ]
    },
    {
     "data": {
      "application/vnd.google.colaboratory.intrinsic+json": {
       "type": "dataframe",
       "variable_name": "df"
      },
      "text/html": [
       "\n",
       "  <div id=\"df-6cc172ae-f239-4805-b59b-99aa9ca2ddc3\" class=\"colab-df-container\">\n",
       "    <div>\n",
       "<style scoped>\n",
       "    .dataframe tbody tr th:only-of-type {\n",
       "        vertical-align: middle;\n",
       "    }\n",
       "\n",
       "    .dataframe tbody tr th {\n",
       "        vertical-align: top;\n",
       "    }\n",
       "\n",
       "    .dataframe thead th {\n",
       "        text-align: right;\n",
       "    }\n",
       "</style>\n",
       "<table border=\"1\" class=\"dataframe\">\n",
       "  <thead>\n",
       "    <tr style=\"text-align: right;\">\n",
       "      <th></th>\n",
       "      <th>loan_amnt</th>\n",
       "      <th>funded_amnt</th>\n",
       "      <th>funded_amnt_inv</th>\n",
       "      <th>int_rate</th>\n",
       "      <th>installment</th>\n",
       "      <th>annual_inc</th>\n",
       "      <th>loan_status</th>\n",
       "      <th>dti</th>\n",
       "      <th>open_acc</th>\n",
       "      <th>pub_rec</th>\n",
       "      <th>...</th>\n",
       "      <th>last_pymnt_d_Feb-2019</th>\n",
       "      <th>last_pymnt_d_Jan-2019</th>\n",
       "      <th>last_pymnt_d_Jul-2018</th>\n",
       "      <th>last_pymnt_d_Nov-2018</th>\n",
       "      <th>last_pymnt_d_Oct-2018</th>\n",
       "      <th>last_pymnt_d_Sep-2018</th>\n",
       "      <th>application_type_Individual</th>\n",
       "      <th>application_type_Joint App</th>\n",
       "      <th>debt_settlement_flag_N</th>\n",
       "      <th>debt_settlement_flag_Y</th>\n",
       "    </tr>\n",
       "  </thead>\n",
       "  <tbody>\n",
       "    <tr>\n",
       "      <th>0</th>\n",
       "      <td>2500</td>\n",
       "      <td>2500</td>\n",
       "      <td>2500.0</td>\n",
       "      <td>13.56</td>\n",
       "      <td>84.92</td>\n",
       "      <td>55000.0</td>\n",
       "      <td>1</td>\n",
       "      <td>18.24</td>\n",
       "      <td>9.0</td>\n",
       "      <td>1.0</td>\n",
       "      <td>...</td>\n",
       "      <td>1</td>\n",
       "      <td>0</td>\n",
       "      <td>0</td>\n",
       "      <td>0</td>\n",
       "      <td>0</td>\n",
       "      <td>0</td>\n",
       "      <td>1</td>\n",
       "      <td>0</td>\n",
       "      <td>1</td>\n",
       "      <td>0</td>\n",
       "    </tr>\n",
       "    <tr>\n",
       "      <th>1</th>\n",
       "      <td>30000</td>\n",
       "      <td>30000</td>\n",
       "      <td>30000.0</td>\n",
       "      <td>18.94</td>\n",
       "      <td>777.23</td>\n",
       "      <td>90000.0</td>\n",
       "      <td>1</td>\n",
       "      <td>26.52</td>\n",
       "      <td>13.0</td>\n",
       "      <td>1.0</td>\n",
       "      <td>...</td>\n",
       "      <td>1</td>\n",
       "      <td>0</td>\n",
       "      <td>0</td>\n",
       "      <td>0</td>\n",
       "      <td>0</td>\n",
       "      <td>0</td>\n",
       "      <td>1</td>\n",
       "      <td>0</td>\n",
       "      <td>1</td>\n",
       "      <td>0</td>\n",
       "    </tr>\n",
       "    <tr>\n",
       "      <th>2</th>\n",
       "      <td>5000</td>\n",
       "      <td>5000</td>\n",
       "      <td>5000.0</td>\n",
       "      <td>17.97</td>\n",
       "      <td>180.69</td>\n",
       "      <td>59280.0</td>\n",
       "      <td>1</td>\n",
       "      <td>10.51</td>\n",
       "      <td>8.0</td>\n",
       "      <td>0.0</td>\n",
       "      <td>...</td>\n",
       "      <td>1</td>\n",
       "      <td>0</td>\n",
       "      <td>0</td>\n",
       "      <td>0</td>\n",
       "      <td>0</td>\n",
       "      <td>0</td>\n",
       "      <td>1</td>\n",
       "      <td>0</td>\n",
       "      <td>1</td>\n",
       "      <td>0</td>\n",
       "    </tr>\n",
       "    <tr>\n",
       "      <th>3</th>\n",
       "      <td>4000</td>\n",
       "      <td>4000</td>\n",
       "      <td>4000.0</td>\n",
       "      <td>18.94</td>\n",
       "      <td>146.51</td>\n",
       "      <td>92000.0</td>\n",
       "      <td>1</td>\n",
       "      <td>16.74</td>\n",
       "      <td>10.0</td>\n",
       "      <td>0.0</td>\n",
       "      <td>...</td>\n",
       "      <td>1</td>\n",
       "      <td>0</td>\n",
       "      <td>0</td>\n",
       "      <td>0</td>\n",
       "      <td>0</td>\n",
       "      <td>0</td>\n",
       "      <td>1</td>\n",
       "      <td>0</td>\n",
       "      <td>1</td>\n",
       "      <td>0</td>\n",
       "    </tr>\n",
       "    <tr>\n",
       "      <th>4</th>\n",
       "      <td>30000</td>\n",
       "      <td>30000</td>\n",
       "      <td>30000.0</td>\n",
       "      <td>16.14</td>\n",
       "      <td>731.78</td>\n",
       "      <td>57250.0</td>\n",
       "      <td>1</td>\n",
       "      <td>26.35</td>\n",
       "      <td>12.0</td>\n",
       "      <td>0.0</td>\n",
       "      <td>...</td>\n",
       "      <td>1</td>\n",
       "      <td>0</td>\n",
       "      <td>0</td>\n",
       "      <td>0</td>\n",
       "      <td>0</td>\n",
       "      <td>0</td>\n",
       "      <td>1</td>\n",
       "      <td>0</td>\n",
       "      <td>1</td>\n",
       "      <td>0</td>\n",
       "    </tr>\n",
       "  </tbody>\n",
       "</table>\n",
       "<p>5 rows × 161 columns</p>\n",
       "</div>\n",
       "    <div class=\"colab-df-buttons\">\n",
       "\n",
       "  <div class=\"colab-df-container\">\n",
       "    <button class=\"colab-df-convert\" onclick=\"convertToInteractive('df-6cc172ae-f239-4805-b59b-99aa9ca2ddc3')\"\n",
       "            title=\"Convert this dataframe to an interactive table.\"\n",
       "            style=\"display:none;\">\n",
       "\n",
       "  <svg xmlns=\"http://www.w3.org/2000/svg\" height=\"24px\" viewBox=\"0 -960 960 960\">\n",
       "    <path d=\"M120-120v-720h720v720H120Zm60-500h600v-160H180v160Zm220 220h160v-160H400v160Zm0 220h160v-160H400v160ZM180-400h160v-160H180v160Zm440 0h160v-160H620v160ZM180-180h160v-160H180v160Zm440 0h160v-160H620v160Z\"/>\n",
       "  </svg>\n",
       "    </button>\n",
       "\n",
       "  <style>\n",
       "    .colab-df-container {\n",
       "      display:flex;\n",
       "      gap: 12px;\n",
       "    }\n",
       "\n",
       "    .colab-df-convert {\n",
       "      background-color: #E8F0FE;\n",
       "      border: none;\n",
       "      border-radius: 50%;\n",
       "      cursor: pointer;\n",
       "      display: none;\n",
       "      fill: #1967D2;\n",
       "      height: 32px;\n",
       "      padding: 0 0 0 0;\n",
       "      width: 32px;\n",
       "    }\n",
       "\n",
       "    .colab-df-convert:hover {\n",
       "      background-color: #E2EBFA;\n",
       "      box-shadow: 0px 1px 2px rgba(60, 64, 67, 0.3), 0px 1px 3px 1px rgba(60, 64, 67, 0.15);\n",
       "      fill: #174EA6;\n",
       "    }\n",
       "\n",
       "    .colab-df-buttons div {\n",
       "      margin-bottom: 4px;\n",
       "    }\n",
       "\n",
       "    [theme=dark] .colab-df-convert {\n",
       "      background-color: #3B4455;\n",
       "      fill: #D2E3FC;\n",
       "    }\n",
       "\n",
       "    [theme=dark] .colab-df-convert:hover {\n",
       "      background-color: #434B5C;\n",
       "      box-shadow: 0px 1px 3px 1px rgba(0, 0, 0, 0.15);\n",
       "      filter: drop-shadow(0px 1px 2px rgba(0, 0, 0, 0.3));\n",
       "      fill: #FFFFFF;\n",
       "    }\n",
       "  </style>\n",
       "\n",
       "    <script>\n",
       "      const buttonEl =\n",
       "        document.querySelector('#df-6cc172ae-f239-4805-b59b-99aa9ca2ddc3 button.colab-df-convert');\n",
       "      buttonEl.style.display =\n",
       "        google.colab.kernel.accessAllowed ? 'block' : 'none';\n",
       "\n",
       "      async function convertToInteractive(key) {\n",
       "        const element = document.querySelector('#df-6cc172ae-f239-4805-b59b-99aa9ca2ddc3');\n",
       "        const dataTable =\n",
       "          await google.colab.kernel.invokeFunction('convertToInteractive',\n",
       "                                                    [key], {});\n",
       "        if (!dataTable) return;\n",
       "\n",
       "        const docLinkHtml = 'Like what you see? Visit the ' +\n",
       "          '<a target=\"_blank\" href=https://colab.research.google.com/notebooks/data_table.ipynb>data table notebook</a>'\n",
       "          + ' to learn more about interactive tables.';\n",
       "        element.innerHTML = '';\n",
       "        dataTable['output_type'] = 'display_data';\n",
       "        await google.colab.output.renderOutput(dataTable, element);\n",
       "        const docLink = document.createElement('div');\n",
       "        docLink.innerHTML = docLinkHtml;\n",
       "        element.appendChild(docLink);\n",
       "      }\n",
       "    </script>\n",
       "  </div>\n",
       "\n",
       "\n",
       "<div id=\"df-6b9a96d0-5854-4c75-be1b-53384b25bc81\">\n",
       "  <button class=\"colab-df-quickchart\" onclick=\"quickchart('df-6b9a96d0-5854-4c75-be1b-53384b25bc81')\"\n",
       "            title=\"Suggest charts\"\n",
       "            style=\"display:none;\">\n",
       "\n",
       "<svg xmlns=\"http://www.w3.org/2000/svg\" height=\"24px\"viewBox=\"0 0 24 24\"\n",
       "     width=\"24px\">\n",
       "    <g>\n",
       "        <path d=\"M19 3H5c-1.1 0-2 .9-2 2v14c0 1.1.9 2 2 2h14c1.1 0 2-.9 2-2V5c0-1.1-.9-2-2-2zM9 17H7v-7h2v7zm4 0h-2V7h2v10zm4 0h-2v-4h2v4z\"/>\n",
       "    </g>\n",
       "</svg>\n",
       "  </button>\n",
       "\n",
       "<style>\n",
       "  .colab-df-quickchart {\n",
       "      --bg-color: #E8F0FE;\n",
       "      --fill-color: #1967D2;\n",
       "      --hover-bg-color: #E2EBFA;\n",
       "      --hover-fill-color: #174EA6;\n",
       "      --disabled-fill-color: #AAA;\n",
       "      --disabled-bg-color: #DDD;\n",
       "  }\n",
       "\n",
       "  [theme=dark] .colab-df-quickchart {\n",
       "      --bg-color: #3B4455;\n",
       "      --fill-color: #D2E3FC;\n",
       "      --hover-bg-color: #434B5C;\n",
       "      --hover-fill-color: #FFFFFF;\n",
       "      --disabled-bg-color: #3B4455;\n",
       "      --disabled-fill-color: #666;\n",
       "  }\n",
       "\n",
       "  .colab-df-quickchart {\n",
       "    background-color: var(--bg-color);\n",
       "    border: none;\n",
       "    border-radius: 50%;\n",
       "    cursor: pointer;\n",
       "    display: none;\n",
       "    fill: var(--fill-color);\n",
       "    height: 32px;\n",
       "    padding: 0;\n",
       "    width: 32px;\n",
       "  }\n",
       "\n",
       "  .colab-df-quickchart:hover {\n",
       "    background-color: var(--hover-bg-color);\n",
       "    box-shadow: 0 1px 2px rgba(60, 64, 67, 0.3), 0 1px 3px 1px rgba(60, 64, 67, 0.15);\n",
       "    fill: var(--button-hover-fill-color);\n",
       "  }\n",
       "\n",
       "  .colab-df-quickchart-complete:disabled,\n",
       "  .colab-df-quickchart-complete:disabled:hover {\n",
       "    background-color: var(--disabled-bg-color);\n",
       "    fill: var(--disabled-fill-color);\n",
       "    box-shadow: none;\n",
       "  }\n",
       "\n",
       "  .colab-df-spinner {\n",
       "    border: 2px solid var(--fill-color);\n",
       "    border-color: transparent;\n",
       "    border-bottom-color: var(--fill-color);\n",
       "    animation:\n",
       "      spin 1s steps(1) infinite;\n",
       "  }\n",
       "\n",
       "  @keyframes spin {\n",
       "    0% {\n",
       "      border-color: transparent;\n",
       "      border-bottom-color: var(--fill-color);\n",
       "      border-left-color: var(--fill-color);\n",
       "    }\n",
       "    20% {\n",
       "      border-color: transparent;\n",
       "      border-left-color: var(--fill-color);\n",
       "      border-top-color: var(--fill-color);\n",
       "    }\n",
       "    30% {\n",
       "      border-color: transparent;\n",
       "      border-left-color: var(--fill-color);\n",
       "      border-top-color: var(--fill-color);\n",
       "      border-right-color: var(--fill-color);\n",
       "    }\n",
       "    40% {\n",
       "      border-color: transparent;\n",
       "      border-right-color: var(--fill-color);\n",
       "      border-top-color: var(--fill-color);\n",
       "    }\n",
       "    60% {\n",
       "      border-color: transparent;\n",
       "      border-right-color: var(--fill-color);\n",
       "    }\n",
       "    80% {\n",
       "      border-color: transparent;\n",
       "      border-right-color: var(--fill-color);\n",
       "      border-bottom-color: var(--fill-color);\n",
       "    }\n",
       "    90% {\n",
       "      border-color: transparent;\n",
       "      border-bottom-color: var(--fill-color);\n",
       "    }\n",
       "  }\n",
       "</style>\n",
       "\n",
       "  <script>\n",
       "    async function quickchart(key) {\n",
       "      const quickchartButtonEl =\n",
       "        document.querySelector('#' + key + ' button');\n",
       "      quickchartButtonEl.disabled = true;  // To prevent multiple clicks.\n",
       "      quickchartButtonEl.classList.add('colab-df-spinner');\n",
       "      try {\n",
       "        const charts = await google.colab.kernel.invokeFunction(\n",
       "            'suggestCharts', [key], {});\n",
       "      } catch (error) {\n",
       "        console.error('Error during call to suggestCharts:', error);\n",
       "      }\n",
       "      quickchartButtonEl.classList.remove('colab-df-spinner');\n",
       "      quickchartButtonEl.classList.add('colab-df-quickchart-complete');\n",
       "    }\n",
       "    (() => {\n",
       "      let quickchartButtonEl =\n",
       "        document.querySelector('#df-6b9a96d0-5854-4c75-be1b-53384b25bc81 button');\n",
       "      quickchartButtonEl.style.display =\n",
       "        google.colab.kernel.accessAllowed ? 'block' : 'none';\n",
       "    })();\n",
       "  </script>\n",
       "</div>\n",
       "    </div>\n",
       "  </div>\n"
      ],
      "text/plain": [
       "   loan_amnt  funded_amnt  funded_amnt_inv  int_rate  installment  annual_inc  \\\n",
       "0       2500         2500           2500.0     13.56        84.92     55000.0   \n",
       "1      30000        30000          30000.0     18.94       777.23     90000.0   \n",
       "2       5000         5000           5000.0     17.97       180.69     59280.0   \n",
       "3       4000         4000           4000.0     18.94       146.51     92000.0   \n",
       "4      30000        30000          30000.0     16.14       731.78     57250.0   \n",
       "\n",
       "   loan_status    dti  open_acc  pub_rec  ...  last_pymnt_d_Feb-2019  \\\n",
       "0            1  18.24       9.0      1.0  ...                      1   \n",
       "1            1  26.52      13.0      1.0  ...                      1   \n",
       "2            1  10.51       8.0      0.0  ...                      1   \n",
       "3            1  16.74      10.0      0.0  ...                      1   \n",
       "4            1  26.35      12.0      0.0  ...                      1   \n",
       "\n",
       "   last_pymnt_d_Jan-2019  last_pymnt_d_Jul-2018  last_pymnt_d_Nov-2018  \\\n",
       "0                      0                      0                      0   \n",
       "1                      0                      0                      0   \n",
       "2                      0                      0                      0   \n",
       "3                      0                      0                      0   \n",
       "4                      0                      0                      0   \n",
       "\n",
       "   last_pymnt_d_Oct-2018  last_pymnt_d_Sep-2018  application_type_Individual  \\\n",
       "0                      0                      0                            1   \n",
       "1                      0                      0                            1   \n",
       "2                      0                      0                            1   \n",
       "3                      0                      0                            1   \n",
       "4                      0                      0                            1   \n",
       "\n",
       "   application_type_Joint App  debt_settlement_flag_N  debt_settlement_flag_Y  \n",
       "0                           0                       1                       0  \n",
       "1                           0                       1                       0  \n",
       "2                           0                       1                       0  \n",
       "3                           0                       1                       0  \n",
       "4                           0                       1                       0  \n",
       "\n",
       "[5 rows x 161 columns]"
      ]
     },
     "execution_count": 6,
     "metadata": {},
     "output_type": "execute_result"
    }
   ],
   "source": [
    "import os, sys, re\n",
    "import time\n",
    "import numpy as np\n",
    "import pandas as pd\n",
    "from sklearn.model_selection import train_test_split\n",
    "\n",
    "dataset = pd.read_csv('loan.csv')\n",
    "df = dataset.fillna(0)\n",
    "\n",
    "def LoanResult(status):\n",
    "    if (status == 'Fully Paid') or (status == 'Current'):\n",
    "        return 1\n",
    "    else:\n",
    "        return 0\n",
    "\n",
    "df['loan_status'] = df['loan_status'].apply(LoanResult)\n",
    "\n",
    "df = df[['loan_amnt', 'funded_amnt', 'funded_amnt_inv', 'term', 'int_rate', 'installment', 'grade', 'sub_grade',\n",
    "             'emp_length', 'home_ownership','annual_inc', 'verification_status', 'loan_status',\n",
    "             'purpose','addr_state', 'dti','open_acc', 'pub_rec', 'revol_bal', 'revol_util',\n",
    "             'initial_list_status', 'recoveries','collection_recovery_fee', 'last_pymnt_d', 'last_pymnt_amnt',\n",
    "             'application_type', 'tot_coll_amt', 'tot_cur_bal', 'avg_cur_bal', 'chargeoff_within_12_mths',\n",
    "             'pub_rec_bankruptcies', 'tax_liens', 'debt_settlement_flag']]\n",
    "df_cat = df.select_dtypes(exclude=['int64', 'float64'])\n",
    "df = pd.get_dummies(df, df_cat.columns.values)\n",
    "df.head()"
   ]
  },
  {
   "cell_type": "markdown",
   "metadata": {
    "id": "UhcJ8qVMNhAX"
   },
   "source": [
    "### Your answer:"
   ]
  },
  {
   "cell_type": "markdown",
   "metadata": {
    "id": "w7QOefL_NhAX"
   },
   "source": [
    "#### Part 1 (**4 pts**)"
   ]
  },
  {
   "cell_type": "code",
   "execution_count": null,
   "metadata": {
    "colab": {
     "base_uri": "https://localhost:8080/"
    },
    "executionInfo": {
     "elapsed": 119,
     "status": "ok",
     "timestamp": 1710703509593,
     "user": {
      "displayName": "Miguel A Gomez De Franco",
      "userId": "00945378091175456648"
     },
     "user_tz": 300
    },
    "id": "vnW_xxDp3tFS",
    "outputId": "3d8611f8-848a-41b3-9135-ac8101b074c7"
   },
   "outputs": [
    {
     "data": {
      "text/plain": [
       "0         1\n",
       "1         1\n",
       "2         1\n",
       "3         1\n",
       "4         1\n",
       "         ..\n",
       "226062    1\n",
       "226063    1\n",
       "226064    1\n",
       "226065    1\n",
       "226066    1\n",
       "Name: loan_status, Length: 226067, dtype: int64"
      ]
     },
     "execution_count": 7,
     "metadata": {},
     "output_type": "execute_result"
    }
   ],
   "source": [
    "# Select the loan_status column as the target column.\n",
    "Y = df.pop('loan_status')\n",
    "Y"
   ]
  },
  {
   "cell_type": "code",
   "execution_count": null,
   "metadata": {
    "colab": {
     "base_uri": "https://localhost:8080/"
    },
    "executionInfo": {
     "elapsed": 553,
     "status": "ok",
     "timestamp": 1710703946767,
     "user": {
      "displayName": "Miguel A Gomez De Franco",
      "userId": "00945378091175456648"
     },
     "user_tz": 300
    },
    "id": "qZbu-s8w4fY5",
    "outputId": "c69ca1ec-0537-42eb-8a11-6f8fc2320ed1"
   },
   "outputs": [
    {
     "data": {
      "text/plain": [
       "array([[0.03846154, 0.03846154, 0.04519414, ..., 0.        , 1.        ,\n",
       "        0.        ],\n",
       "       [0.74358974, 0.74358974, 0.74538511, ..., 0.        , 1.        ,\n",
       "        0.        ],\n",
       "       [0.1025641 , 0.1025641 , 0.10884787, ..., 0.        , 1.        ,\n",
       "        0.        ],\n",
       "       ...,\n",
       "       [0.30769231, 0.30769231, 0.31253978, ..., 0.        , 1.        ,\n",
       "        0.        ],\n",
       "       [0.23076923, 0.23076923, 0.23615532, ..., 0.        , 1.        ,\n",
       "        0.        ],\n",
       "       [0.35897436, 0.35897436, 0.36346276, ..., 0.        , 1.        ,\n",
       "        0.        ]])"
      ]
     },
     "execution_count": 10,
     "metadata": {},
     "output_type": "execute_result"
    }
   ],
   "source": [
    "# fit and scale the data\n",
    "from sklearn.preprocessing import MinMaxScaler\n",
    "scaler = MinMaxScaler()\n",
    "df_scaled = scaler.fit_transform(df)\n",
    "df_scaled"
   ]
  },
  {
   "cell_type": "code",
   "execution_count": null,
   "metadata": {
    "id": "XoO3Bf7_NhAX"
   },
   "outputs": [],
   "source": [
    "# generate train test split with 25% test data and 42 random state\n",
    "df_scaled_train, df_scaled_test, y_train, y_test = train_test_split(df_scaled, Y, test_size=0.25, random_state=42)"
   ]
  },
  {
   "cell_type": "code",
   "execution_count": null,
   "metadata": {
    "colab": {
     "base_uri": "https://localhost:8080/"
    },
    "executionInfo": {
     "elapsed": 130,
     "status": "ok",
     "timestamp": 1710704208365,
     "user": {
      "displayName": "Miguel A Gomez De Franco",
      "userId": "00945378091175456648"
     },
     "user_tz": 300
    },
    "id": "EXSvXYI00utC",
    "outputId": "448b6921-ab76-4a2f-d7c2-046b74e2d69f"
   },
   "outputs": [
    {
     "name": "stdout",
     "output_type": "stream",
     "text": [
      "The total number of features is: 160\n"
     ]
    }
   ],
   "source": [
    "print(\"The total number of features is: {}\".format(df_scaled.shape[1]))"
   ]
  },
  {
   "cell_type": "markdown",
   "metadata": {
    "id": "9ONUdddBNhAY"
   },
   "source": [
    "#### Part 2 (**4 pts**)"
   ]
  },
  {
   "cell_type": "code",
   "execution_count": null,
   "metadata": {
    "id": "KUZ_J9qkNhAY"
   },
   "outputs": [],
   "source": [
    "# make a random forest classifier\n",
    "from sklearn.ensemble import RandomForestClassifier\n",
    "rfClassifier = RandomForestClassifier(n_estimators=5, random_state=42)\n",
    "rfClassifier_trained = rfClassifier.fit(df_scaled_train, y_train)"
   ]
  },
  {
   "cell_type": "code",
   "execution_count": null,
   "metadata": {
    "id": "OtAaJ9d4_SpC"
   },
   "outputs": [],
   "source": [
    "y_predicted = rfClassifier_trained.predict(df_scaled_test)"
   ]
  },
  {
   "cell_type": "code",
   "execution_count": null,
   "metadata": {
    "colab": {
     "base_uri": "https://localhost:8080/"
    },
    "executionInfo": {
     "elapsed": 306,
     "status": "ok",
     "timestamp": 1710706420293,
     "user": {
      "displayName": "Miguel A Gomez De Franco",
      "userId": "00945378091175456648"
     },
     "user_tz": 300
    },
    "id": "nhZzFvp_BwnK",
    "outputId": "adf402ae-5904-42ce-ca02-e831fff22db1"
   },
   "outputs": [
    {
     "name": "stdout",
     "output_type": "stream",
     "text": [
      "              precision    recall  f1-score   support\n",
      "\n",
      "           0       0.63      0.37      0.46       850\n",
      "           1       0.99      1.00      0.99     55667\n",
      "\n",
      "    accuracy                           0.99     56517\n",
      "   macro avg       0.81      0.68      0.73     56517\n",
      "weighted avg       0.98      0.99      0.99     56517\n",
      "\n"
     ]
    }
   ],
   "source": [
    "# make a classification report\n",
    "from sklearn.metrics import classification_report\n",
    "print(classification_report(y_test, y_predicted))"
   ]
  },
  {
   "cell_type": "markdown",
   "metadata": {
    "id": "-8ilHamhNhAY"
   },
   "source": [
    "#### Part 3-5: **14 pts**\n"
   ]
  },
  {
   "cell_type": "code",
   "execution_count": null,
   "metadata": {
    "id": "FOpz3ux7NhAY"
   },
   "outputs": [],
   "source": [
    "from sklearn.feature_selection import SelectKBest\n",
    "from sklearn.feature_selection import chi2"
   ]
  },
  {
   "cell_type": "code",
   "execution_count": null,
   "metadata": {
    "id": "XQrBbJO4VbJr"
   },
   "outputs": [],
   "source": [
    "# PART 3:\n",
    "# select 100 best features\n",
    "selector100 = SelectKBest(chi2, k=100)\n",
    "df_scaled_train_top100 = selector100.fit_transform(df_scaled_train, y_train)\n",
    "df_scaled_test_top100 = selector100.fit_transform(df_scaled_test, y_test)"
   ]
  },
  {
   "cell_type": "code",
   "execution_count": null,
   "metadata": {
    "colab": {
     "base_uri": "https://localhost:8080/"
    },
    "executionInfo": {
     "elapsed": 106,
     "status": "ok",
     "timestamp": 1710712216236,
     "user": {
      "displayName": "Miguel A Gomez De Franco",
      "userId": "00945378091175456648"
     },
     "user_tz": 300
    },
    "id": "fjs6qrFMXPhT",
    "outputId": "489a3222-e64b-4e64-f02d-8cca5f5f5316"
   },
   "outputs": [
    {
     "data": {
      "text/plain": [
       "(169550, 100)"
      ]
     },
     "execution_count": 36,
     "metadata": {},
     "output_type": "execute_result"
    }
   ],
   "source": [
    "df_scaled_train_top100.shape"
   ]
  },
  {
   "cell_type": "code",
   "execution_count": null,
   "metadata": {
    "id": "3HHmmSVuV49K"
   },
   "outputs": [],
   "source": [
    "# select 30 best features\n",
    "selector30 = SelectKBest(chi2, k=30)\n",
    "df_scaled_train_top30 = selector30.fit_transform(df_scaled_train, y_train)\n",
    "df_scaled_test_top30 = selector30.fit_transform(df_scaled_test, y_test)"
   ]
  },
  {
   "cell_type": "code",
   "execution_count": null,
   "metadata": {
    "colab": {
     "base_uri": "https://localhost:8080/"
    },
    "executionInfo": {
     "elapsed": 99,
     "status": "ok",
     "timestamp": 1710712219556,
     "user": {
      "displayName": "Miguel A Gomez De Franco",
      "userId": "00945378091175456648"
     },
     "user_tz": 300
    },
    "id": "e52jTEnFXP1q",
    "outputId": "57686761-8be3-4861-a2a0-7fcfa2783d5e"
   },
   "outputs": [
    {
     "data": {
      "text/plain": [
       "(169550, 30)"
      ]
     },
     "execution_count": 38,
     "metadata": {},
     "output_type": "execute_result"
    }
   ],
   "source": [
    "df_scaled_train_top30.shape"
   ]
  },
  {
   "cell_type": "code",
   "execution_count": null,
   "metadata": {
    "id": "fyNVjncRWAiy"
   },
   "outputs": [],
   "source": [
    "# select 10 best features\n",
    "selector10 = SelectKBest(chi2, k=10)\n",
    "df_scaled_train_top10 = selector10.fit_transform(df_scaled_train, y_train)\n",
    "df_scaled_test_top10 = selector10.fit_transform(df_scaled_test, y_test)"
   ]
  },
  {
   "cell_type": "code",
   "execution_count": null,
   "metadata": {
    "colab": {
     "base_uri": "https://localhost:8080/"
    },
    "executionInfo": {
     "elapsed": 111,
     "status": "ok",
     "timestamp": 1710712222443,
     "user": {
      "displayName": "Miguel A Gomez De Franco",
      "userId": "00945378091175456648"
     },
     "user_tz": 300
    },
    "id": "7mWWca6HXQFS",
    "outputId": "c5ae3598-f2a3-4b2e-85aa-ac09c672918f"
   },
   "outputs": [
    {
     "data": {
      "text/plain": [
       "(169550, 10)"
      ]
     },
     "execution_count": 40,
     "metadata": {},
     "output_type": "execute_result"
    }
   ],
   "source": [
    "df_scaled_train_top10.shape"
   ]
  },
  {
   "cell_type": "code",
   "execution_count": null,
   "metadata": {
    "id": "iYBcK4jsXg4h"
   },
   "outputs": [],
   "source": [
    "# Train a random forest classifier for each subset of features and print classification report.\n",
    "# 100:\n",
    "rfClassifier100 = RandomForestClassifier(n_estimators=5, random_state=42)\n",
    "rfClassifier_trained100 = rfClassifier100.fit(df_scaled_train_top100, y_train)\n",
    "y_predicted100 = rfClassifier_trained100.predict(df_scaled_test_top100)"
   ]
  },
  {
   "cell_type": "code",
   "execution_count": null,
   "metadata": {
    "colab": {
     "base_uri": "https://localhost:8080/"
    },
    "executionInfo": {
     "elapsed": 382,
     "status": "ok",
     "timestamp": 1710712226988,
     "user": {
      "displayName": "Miguel A Gomez De Franco",
      "userId": "00945378091175456648"
     },
     "user_tz": 300
    },
    "id": "1OICc2CJYdKr",
    "outputId": "9b3649cf-fe73-43d4-ed40-79a5bb612944"
   },
   "outputs": [
    {
     "name": "stdout",
     "output_type": "stream",
     "text": [
      "              precision    recall  f1-score   support\n",
      "\n",
      "           0       0.02      0.14      0.03       850\n",
      "           1       0.98      0.86      0.92     55667\n",
      "\n",
      "    accuracy                           0.85     56517\n",
      "   macro avg       0.50      0.50      0.47     56517\n",
      "weighted avg       0.97      0.85      0.90     56517\n",
      "\n"
     ]
    }
   ],
   "source": [
    "print(classification_report(y_test, y_predicted100))"
   ]
  },
  {
   "cell_type": "code",
   "execution_count": null,
   "metadata": {
    "id": "D-hOZzBJX1di"
   },
   "outputs": [],
   "source": [
    "# 30\n",
    "rfClassifier30 = RandomForestClassifier(n_estimators=5, random_state=42)\n",
    "rfClassifier_trained30 = rfClassifier30.fit(df_scaled_train_top30, y_train)\n",
    "y_predicted30 = rfClassifier_trained30.predict(df_scaled_test_top30)"
   ]
  },
  {
   "cell_type": "code",
   "execution_count": null,
   "metadata": {
    "colab": {
     "base_uri": "https://localhost:8080/"
    },
    "executionInfo": {
     "elapsed": 252,
     "status": "ok",
     "timestamp": 1710712229929,
     "user": {
      "displayName": "Miguel A Gomez De Franco",
      "userId": "00945378091175456648"
     },
     "user_tz": 300
    },
    "id": "OGrNAG1OYdgC",
    "outputId": "dd5573e0-efdd-41a4-dc31-1de259c644d2"
   },
   "outputs": [
    {
     "name": "stdout",
     "output_type": "stream",
     "text": [
      "              precision    recall  f1-score   support\n",
      "\n",
      "           0       0.48      0.15      0.23       850\n",
      "           1       0.99      1.00      0.99     55667\n",
      "\n",
      "    accuracy                           0.98     56517\n",
      "   macro avg       0.73      0.57      0.61     56517\n",
      "weighted avg       0.98      0.98      0.98     56517\n",
      "\n"
     ]
    }
   ],
   "source": [
    "print(classification_report(y_test, y_predicted30))"
   ]
  },
  {
   "cell_type": "code",
   "execution_count": null,
   "metadata": {
    "id": "MsnPHzGnX11S"
   },
   "outputs": [],
   "source": [
    "# 10\n",
    "rfClassifier10 = RandomForestClassifier(n_estimators=5, random_state=42)\n",
    "rfClassifier_trained10 = rfClassifier10.fit(df_scaled_train_top10, y_train)\n",
    "y_predicted10 = rfClassifier_trained10.predict(df_scaled_test_top10)"
   ]
  },
  {
   "cell_type": "code",
   "execution_count": null,
   "metadata": {
    "colab": {
     "base_uri": "https://localhost:8080/"
    },
    "executionInfo": {
     "elapsed": 230,
     "status": "ok",
     "timestamp": 1710712233872,
     "user": {
      "displayName": "Miguel A Gomez De Franco",
      "userId": "00945378091175456648"
     },
     "user_tz": 300
    },
    "id": "LyFhkCtVYdwa",
    "outputId": "88c20389-38a0-4ab3-ff5e-5e7e94a5beb8"
   },
   "outputs": [
    {
     "name": "stdout",
     "output_type": "stream",
     "text": [
      "              precision    recall  f1-score   support\n",
      "\n",
      "           0       1.00      0.07      0.14       850\n",
      "           1       0.99      1.00      0.99     55667\n",
      "\n",
      "    accuracy                           0.99     56517\n",
      "   macro avg       0.99      0.54      0.56     56517\n",
      "weighted avg       0.99      0.99      0.98     56517\n",
      "\n"
     ]
    }
   ],
   "source": [
    "print(classification_report(y_test, y_predicted10))"
   ]
  },
  {
   "cell_type": "code",
   "execution_count": null,
   "metadata": {
    "id": "P8kOb6vxZTNq"
   },
   "outputs": [],
   "source": [
    "# PART 4:\n",
    "import matplotlib.pyplot as plt\n",
    "from sklearn.metrics import RocCurveDisplay"
   ]
  },
  {
   "cell_type": "code",
   "execution_count": null,
   "metadata": {
    "colab": {
     "base_uri": "https://localhost:8080/",
     "height": 449
    },
    "executionInfo": {
     "elapsed": 1172,
     "status": "ok",
     "timestamp": 1710713273729,
     "user": {
      "displayName": "Miguel A Gomez De Franco",
      "userId": "00945378091175456648"
     },
     "user_tz": 300
    },
    "id": "qYPPsqToZvkz",
    "outputId": "49d25e0c-68c5-4bdb-8a76-250c37cbb3c1"
   },
   "outputs": [
    {
     "data": {
      "image/png": "[encoded data removed]",
      "text/plain": [
       "<Figure size 640x480 with 1 Axes>"
      ]
     },
     "metadata": {},
     "output_type": "display_data"
    }
   ],
   "source": [
    "fig, ax_ = plt.subplots()\n",
    "RocCurveDisplay.from_estimator(rfClassifier, df_scaled_test, y_test, ax=ax_, name=\"RFC\")\n",
    "RocCurveDisplay.from_estimator(rfClassifier100, df_scaled_test_top100, y_test, ax=ax_, name=\"RFC - 100\")\n",
    "RocCurveDisplay.from_estimator(rfClassifier30, df_scaled_test_top30, y_test, ax=ax_, name=\"RFC - 30\")\n",
    "RocCurveDisplay.from_estimator(rfClassifier10, df_scaled_test_top10, y_test, ax=ax_, name=\"RFC - 10\")\n",
    "plt.show()"
   ]
  },
  {
   "cell_type": "code",
   "execution_count": null,
   "metadata": {
    "id": "GWCNPhx0k9Vb"
   },
   "outputs": [],
   "source": [
    "# PART 5\n",
    "feature_names = list(df.columns.values)"
   ]
  },
  {
   "cell_type": "code",
   "execution_count": null,
   "metadata": {
    "id": "z2anlQBXlhe6"
   },
   "outputs": [],
   "source": [
    "mask100 = selector100.get_support() #list of booleans\n",
    "mask30 = selector30.get_support() #list of booleans\n",
    "mask10 = selector10.get_support() #list of booleans"
   ]
  },
  {
   "cell_type": "code",
   "execution_count": null,
   "metadata": {
    "id": "iHBqPQiEnMir"
   },
   "outputs": [],
   "source": [
    "df_scaled_train_named = pd.DataFrame(df_scaled_train, columns=feature_names)"
   ]
  },
  {
   "cell_type": "code",
   "execution_count": null,
   "metadata": {
    "id": "Aw3RNCOQnQkT"
   },
   "outputs": [],
   "source": [
    "df_scaled_train_named"
   ]
  },
  {
   "cell_type": "code",
   "execution_count": null,
   "metadata": {
    "id": "aPnJUxL_hPS7"
   },
   "outputs": [],
   "source": [
    "new_features = [] # The list of your K best features\n",
    "for maskTrue, feature in zip(mask100, feature_names):\n",
    "    if maskTrue:\n",
    "        new_features.append(feature)\n",
    "df_scaled_train_top100_named = pd.DataFrame(df_scaled_train_top100, columns=new_features)\n",
    "\n",
    "new_features = [] # The list of your K best features\n",
    "for maskTrue, feature in zip(mask30, feature_names):\n",
    "    if maskTrue:\n",
    "        new_features.append(feature)\n",
    "df_scaled_train_top30_named = pd.DataFrame(df_scaled_train_top30, columns=new_features)\n",
    "\n",
    "new_features = [] # The list of your K best features\n",
    "for maskTrue, feature in zip(mask10, feature_names):\n",
    "    if maskTrue:\n",
    "        new_features.append(feature)\n",
    "df_scaled_train_top10_named = pd.DataFrame(df_scaled_train_top10, columns=new_features)"
   ]
  },
  {
   "cell_type": "code",
   "execution_count": null,
   "metadata": {
    "colab": {
     "base_uri": "https://localhost:8080/",
     "height": 470
    },
    "executionInfo": {
     "elapsed": 668,
     "status": "ok",
     "timestamp": 1710717723875,
     "user": {
      "displayName": "Miguel A Gomez De Franco",
      "userId": "00945378091175456648"
     },
     "user_tz": 300
    },
    "id": "A9I3s6QKpeCz",
    "outputId": "cb9bf694-a144-455d-e71a-8416bf1903c6"
   },
   "outputs": [
    {
     "data": {
      "text/plain": [
       "<Axes: title={'center': 'Top 5 features out of 160'}>"
      ]
     },
     "execution_count": 107,
     "metadata": {},
     "output_type": "execute_result"
    },
    {
     "data": {
      "image/png": "[encoded data removed]",
      "text/plain": [
       "<Figure size 640x480 with 1 Axes>"
      ]
     },
     "metadata": {},
     "output_type": "display_data"
    }
   ],
   "source": [
    "feat_importances = pd.Series(rfClassifier.feature_importances_, index=df_scaled_train_named.columns)\n",
    "feat_importances.nlargest(5).plot(kind='barh', title='Top 5 features out of 160')"
   ]
  },
  {
   "cell_type": "code",
   "execution_count": null,
   "metadata": {
    "colab": {
     "base_uri": "https://localhost:8080/",
     "height": 470
    },
    "executionInfo": {
     "elapsed": 388,
     "status": "ok",
     "timestamp": 1710717726016,
     "user": {
      "displayName": "Miguel A Gomez De Franco",
      "userId": "00945378091175456648"
     },
     "user_tz": 300
    },
    "id": "69mZ9aLguISb",
    "outputId": "88470b04-5506-48ae-e111-2a85607e4771"
   },
   "outputs": [
    {
     "data": {
      "text/plain": [
       "<Axes: title={'center': 'Top 5 features out of 100'}>"
      ]
     },
     "execution_count": 108,
     "metadata": {},
     "output_type": "execute_result"
    },
    {
     "data": {
      "image/png": "[encoded data removed]",
      "text/plain": [
       "<Figure size 640x480 with 1 Axes>"
      ]
     },
     "metadata": {},
     "output_type": "display_data"
    }
   ],
   "source": [
    "feat_importances100 = pd.Series(rfClassifier100.feature_importances_, index=df_scaled_train_top100_named.columns)\n",
    "feat_importances100.nlargest(5).plot(kind='barh', title='Top 5 features out of 100')"
   ]
  },
  {
   "cell_type": "code",
   "execution_count": null,
   "metadata": {
    "colab": {
     "base_uri": "https://localhost:8080/",
     "height": 470
    },
    "executionInfo": {
     "elapsed": 406,
     "status": "ok",
     "timestamp": 1710717728248,
     "user": {
      "displayName": "Miguel A Gomez De Franco",
      "userId": "00945378091175456648"
     },
     "user_tz": 300
    },
    "id": "-TaHzwD9uIjy",
    "outputId": "58ea5d08-3418-4eb8-81b2-9a2ff757eea5"
   },
   "outputs": [
    {
     "data": {
      "text/plain": [
       "<Axes: title={'center': 'Top 5 features out of 30'}>"
      ]
     },
     "execution_count": 109,
     "metadata": {},
     "output_type": "execute_result"
    },
    {
     "data": {
      "image/png": "[encoded data removed]",
      "text/plain": [
       "<Figure size 640x480 with 1 Axes>"
      ]
     },
     "metadata": {},
     "output_type": "display_data"
    }
   ],
   "source": [
    "feat_importances30 = pd.Series(rfClassifier30.feature_importances_, index=df_scaled_train_top30_named.columns)\n",
    "feat_importances30.nlargest(5).plot(kind='barh', title='Top 5 features out of 30')"
   ]
  },
  {
   "cell_type": "code",
   "execution_count": null,
   "metadata": {
    "colab": {
     "base_uri": "https://localhost:8080/",
     "height": 470
    },
    "executionInfo": {
     "elapsed": 365,
     "status": "ok",
     "timestamp": 1710717730161,
     "user": {
      "displayName": "Miguel A Gomez De Franco",
      "userId": "00945378091175456648"
     },
     "user_tz": 300
    },
    "id": "kGWsMhtPuIzK",
    "outputId": "c0e953f2-aa24-430d-ad3c-1c84a8783953"
   },
   "outputs": [
    {
     "data": {
      "text/plain": [
       "<Axes: title={'center': 'Top 5 features out of 10'}>"
      ]
     },
     "execution_count": 110,
     "metadata": {},
     "output_type": "execute_result"
    },
    {
     "data": {
      "image/png": "[encoded data removed]",
      "text/plain": [
       "<Figure size 640x480 with 1 Axes>"
      ]
     },
     "metadata": {},
     "output_type": "display_data"
    }
   ],
   "source": [
    "feat_importances10 = pd.Series(rfClassifier10.feature_importances_, index=df_scaled_train_top10_named.columns)\n",
    "feat_importances10.nlargest(5).plot(kind='barh', title='Top 5 features out of 10')"
   ]
  },
  {
   "cell_type": "markdown",
   "metadata": {
    "id": "ksEU39zXNhAY"
   },
   "source": [
    "# <font color='blue'> Problem 2:  Boosting (26 pts) </font>\n",
    "In this problem, you are asked to implement AdaBoost with decision stumps (basically, depth-1 decision trees) and apply it to classify data in 'spamdata.mat'. Select the number of boosting rounds $T^{*}$ from $\\mathcal{T}=\\{100,200, \\ldots, 1000\\}$; how did you choose this parameter? Plot the errors on the training and test sets as functions of the number of rounds of boosting $t \\in\\left[1, T^{*}\\right]$.\n",
    "[Note: If you want to write the code from scratch yourself, you do not have to follow the suggested code structure given below.]\n",
    "\n",
    "**Part 1: Decision Stump (10 pts)**\n",
    "Adaboost is one of the oldest boosting algorithm, capable of converting an ensemble of weak classifiers into a strong classifier. We will use [Decision Stumps](https://en.wikipedia.org/wiki/Decision_stump) as our base (weak) classifiers.\n",
    "\n",
    "**Part 2: Adaboost (10 pts)**\n",
    "This is the same algorithm as we learned in class. You create a new weak learner based on the current sample weights, compute the error of the created weak learner, compute the new learner's weight using the formula $w_{t}=\\frac{1}{2} \\log \\left(\\frac{1}{\\epsilon_{t}}-1\\right)$, and finally update the sample weights. In the next iteration, identify a new weak learner based on the updated sample weights.\n",
    "\n",
    "**Part 3: Boosting (6 pts)**\n",
    "Use your Decision Stumps and Adaboost algorithms to run boosting."
   ]
  },
  {
   "cell_type": "markdown",
   "metadata": {
    "id": "lrJT2ylYNhAY"
   },
   "source": [
    "### Your answer:"
   ]
  },
  {
   "cell_type": "markdown",
   "metadata": {
    "id": "RLdMd1WxNhAY"
   },
   "source": [
    "#### Part 1: Decision Stump (10 pts)"
   ]
  },
  {
   "cell_type": "code",
   "execution_count": null,
   "metadata": {
    "id": "YuDKOWQGNhAZ"
   },
   "outputs": [],
   "source": [
    "import numpy as np\n",
    "from operator import lt,ge\n",
    "\n",
    "class DecisionStump:\n",
    "    \"\"\"\n",
    "    A simple decision stump classifier\n",
    "    dim : dimension on which to split\n",
    "    value : value of the dimension\n",
    "    op : comparator function (either <, <, >= or <=)\n",
    "    \"\"\"\n",
    "    def __init__(self, dim=0, value=0, op=lt):\n",
    "        self.dim = dim\n",
    "        self.value = value\n",
    "        self.op = op\n",
    "\n",
    "    def update(self, dim=None, value=None, op=None):\n",
    "        if dim is not None: self.dim = dim\n",
    "        if value is not None: self.value = value\n",
    "        if op is not None: self.op = op\n",
    "\n",
    "    def predict(self,X):\n",
    "        return np.array([1 if self.op(x, self.value) else -1 for x in X[:,self.dim]])\n",
    "\n",
    "    \"\"\"\n",
    "    Fit a one-dimensional Decision Stump classifier.\n",
    "    You should identify the dimension which results in the best split and find the corresponding optimal\n",
    "    feature threshold value.\n",
    "    To facilitate the search for the optimal splitting dimension, this function is called by the fit_data\n",
    "    function for every dimension.\n",
    "    \"\"\"\n",
    "    def fit_dim(self,X,Y,sample_weights,num_splits):\n",
    "        \"\"\"\n",
    "        Input:\n",
    "        X and Y are the input data and labels, respectively.\n",
    "        sample_weights are the iterated weights (initialized as (1/m,1/m,1/m,...,1/m))\n",
    "        num_splits is the number of possible threshold values used for splitting the\n",
    "        data (we discretize possible threshold values, find the optimal one); this value\n",
    "        should be less than the number of samples for the sake of computational efficiency.\n",
    "\n",
    "        Return:\n",
    "        min_err: the minimum classification error\n",
    "        split_value: the optimal threshold\n",
    "        op: optimal operator (i.e., either >, <, >=, or <=)\n",
    "        \"\"\"\n",
    "        return min_err,split_value,op\n",
    "\n",
    "    \"\"\"\n",
    "    Finding an optimal splitting dimension and the corresponding feature threshold value\n",
    "    X : n x d data matrix, n number of samples with d dimension\n",
    "    Y : n dimensional array containing label of each observation, label = {-1,1}\n",
    "    sample_weights : weight of each observation\n",
    "    num_splits : number of split value to be tested randomly\n",
    "\n",
    "    \"\"\"\n",
    "    def fit_data(self,X,Y,sample_weights,num_splits=100):\n",
    "        \"\"\"\n",
    "        Input:\n",
    "        X and Y are the input data and labels, respectively.\n",
    "        sample_weights are the iterated weights (initialized as (1/m,1/m,1/m,...,1/m))\n",
    "        num_splits is the number of possible threshold values used for splitting the\n",
    "        data (we discretize possible threshold values, find the optimal one); this value\n",
    "        should be less than the number of samples for the sake of computational efficiency.\n",
    "        There is no return in this funtion\n",
    "        you can use update() to assign the optimal value of self.dim, self.value and self.op\n",
    "        \"\"\""
   ]
  },
  {
   "cell_type": "markdown",
   "metadata": {
    "id": "DwkmS-zRNhAZ"
   },
   "source": [
    "#### Part 2: Adaboost (10 pts)"
   ]
  },
  {
   "cell_type": "code",
   "execution_count": null,
   "metadata": {
    "id": "z7KCjlKTNhAZ"
   },
   "outputs": [],
   "source": [
    "class Adaboost:\n",
    "    def __init__(self, n, weak_learners=None, learner_weights=None):\n",
    "        self.weak_learners = weak_learners if weak_learners is not None else []\n",
    "        self.learner_weights = learner_weights if learner_weights is not None else []\n",
    "        self.sample_weights = np.repeat(1/n,n)\n",
    "\n",
    "\n",
    "    def add_learner(self, X, Y, weak_learner_class = DecisionStump):\n",
    "        \"\"\"\n",
    "        In this function, Adaboost completes one iteration\n",
    "        Please use the class DecisionStump and its member functions you definted above.\n",
    "\n",
    "        X : n x d data matrix, n is the number of samples in d dimensions\n",
    "        Y : n dimensional array containing label of each observation, label in {-1,1}\n",
    "        weak_learner_class is default: DecisionStump\n",
    "        Notice: you need to use a list to append all the weak learner objects and their weights here\n",
    "        \"\"\"\n",
    "\n",
    "    def predict(self,X):\n",
    "         \"\"\"\n",
    "        You can use this function to return predicted label using the iterated strong model.\n",
    "        The current iterated strong model H(t) consists of t weak learners we saved before\n",
    "\n",
    "        \"\"\"\n",
    "        return predictions\n",
    "\n",
    "    def prediction_error(self,X,Y):\n",
    "        \"\"\"\n",
    "        You can use this function to return the predicted error using the iterated strong model\n",
    "        \"\"\"\n",
    "        return error\n",
    "\n"
   ]
  },
  {
   "cell_type": "markdown",
   "metadata": {
    "id": "tp9gacoONhAZ"
   },
   "source": [
    "#### Part 3: Boosting (6 pts)\n"
   ]
  },
  {
   "cell_type": "code",
   "execution_count": null,
   "metadata": {
    "id": "NbuUnnKENhAZ"
   },
   "outputs": [],
   "source": [
    "import random\n",
    "import matplotlib.pyplot as plt\n",
    "import scipy.io\n",
    "\n",
    "\n",
    "def plot_results(train_error, test_error):\n",
    "    \"\"\"\n",
    "    Plot error on the training and test set as a function\n",
    "    of the number of rounds of boosting.\n",
    "    \"\"\""
   ]
  },
  {
   "cell_type": "code",
   "execution_count": null,
   "metadata": {
    "id": "QCJCZOE5NhAZ"
   },
   "outputs": [],
   "source": [
    "from sklearn.model_selection import train_test_split\n",
    "#Read in the dataset\n",
    "dataFile = 'spamdata.mat'\n",
    "data = scipy.io.loadmat(dataFile)['spamdata']\n",
    "X = data[:,0:57]\n",
    "y = data[:,57]\n",
    "X_train, X_test, y_train, y_test = train_test_split(X, y, test_size = 0.25, random_state=50)\n",
    "\n",
    "# normalize data\n",
    "X_train = np.log(X_train + 0.1 * np.ones((len(X_train), len(X_train[0]))))\n",
    "X_test = np.log(X_test + 0.1 * np.ones((len(X_test), len(X_test[0]))))\n",
    "y_train = 2 * y_train - 1\n",
    "y_test = 2 * y_test - 1\n",
    "\n",
    "#Maximum number of weak learners to be used in Adaboost\n",
    "max_num_weak_learners = 1000\n",
    "\n",
    "#Train and test error\n",
    "train_error = []\n",
    "test_error = []\n",
    "\n",
    "#Training Adaboost with weak learners\n",
    "n,d = X_train.shape\n",
    "model = Adaboost(n)\n",
    "for m in range(1, max_num_weak_learners + 1):\n",
    "    print(\"Training Adaboost with weak learners %d\" % m)\n",
    "    model.add_learner(X_train, y_train)\n",
    "    train_error.append(model.prediction_error(X_train, y_train))\n",
    "    test_error.append(model.prediction_error(X_test, y_test))\n",
    "\n",
    "print(\"Initial Training Error=%.4f Testing Error= %.4f \" % (train_error[0], test_error[0]))\n",
    "print(\"Final Training Error=%.4f Testing Error= %.4f \" % (train_error[-1], test_error[-1]))\n",
    "plot_results(train_error, test_error)"
   ]
  },
  {
   "cell_type": "markdown",
   "metadata": {
    "id": "inZlviewNhAZ"
   },
   "source": [
    "# <font color='blue'> Problem 3: Comparing different classification ensembles method (22 pts) </font>\n",
    "\n",
    "In this problem, we will compare performance of different ensemble methods for classification: [Bagging](https://scikit-learn.org/stable/modules/generated/sklearn.ensemble.BaggingClassifier.html), [AdaBoost](https://scikit-learn.org/stable/modules/generated/sklearn.ensemble.AdaBoostClassifier.html), [GradientBoosting](http://scikit-learn.org/stable/modules/generated/sklearn.ensemble.GradientBoostingClassifier.html), and [Random Forest](https://scikit-learn.org/stable/modules/generated/sklearn.ensemble.RandomForestClassifier.html) classifiers.\n",
    "\n",
    "[Spam Classification Data](https://archive.ics.uci.edu/ml/datasets/Spambase) of UCI will be used ('spamdata.mat', exactly the same dataset we used in Problem 2).\n",
    "\n",
    "* Load the data and partition it into features (X) and the target label (y) for classification task. Then, use [train_test_split](http://scikit-learn.org/stable/modules/generated/sklearn.model_selection.train_test_split.html) to split data into training and testing: test_size=0.33, random_state=42.\n",
    "\n",
    "\n",
    "\n",
    "**Part 1: (5 pts)** Use a Decision Tree Classifier with random_state = 10 and Logistic Regression with random_state = 10 and solver =\"lbfgs\" for the spam classification problem. Report the accuracy_score and roc_auc_score on the test data for each classifier.\n",
    "\n",
    "\n",
    "**Part 2: (5 pts)** Create an ensemble of 50 classifiers (i.e., n_estimators = 50) with random_state = 10 for [bagging](https://scikit-learn.org/stable/modules/generated/sklearn.ensemble.BaggingClassifier.html) with base classifiers being Decision Tree Classifier and Logistic Regression from part $1$ . Report accuracy_score and roc_auc_score on the test data for both Bagging classifiers. Compare the results and briefly explain the effect of using bagging for the spam classification problem for both the Logistic Regression and Decision Tree base classifiers.\n",
    "\n",
    "**Part 3: (5 pts)** Use a [Random Forest](http://scikit-learn.org/stable/modules/generated/sklearn.ensemble.RandomForestClassifier.html) to classify whether an email is spam. Report your testing accuracy ([accuracy_score](http://scikit-learn.org/stable/modules/generated/sklearn.metrics.accuracy_score.html)) and [roc_auc_score](http://scikit-learn.org/stable/modules/generated/sklearn.metrics.roc_auc_score.html#sklearn.metrics.roc_auc_score). You will need [predict_proba](http://scikit-learn.org/stable/modules/generated/sklearn.ensemble.RandomForestClassifier.html#sklearn.ensemble.RandomForestClassifier.predict_proba) for roc_auc_score.\n",
    "\n",
    "\n",
    "**Part 4: (5 pts)** Use [Gradient Boosting Decision Tree](http://scikit-learn.org/stable/modules/generated/sklearn.ensemble.GradientBoostingClassifier.html) (GBDT), and [AdaBoost](http://scikit-learn.org/stable/modules/generated/sklearn.ensemble.AdaBoostClassifier.html#sklearn.ensemble.AdaBoostClassifier) for the spam classification problem.  Report  accuracy_score and roc_auc_score on the test data for each algorithm.\n",
    "\n",
    "  Note : For part 3 and 4 find the best values for the hyper parameters of each of the models by using GridSearchCV.\n",
    "\n",
    "\n",
    "**Part 5: (2 pts)** Briefly explain which of the three ensemble method above from Part 3 & 4 performed the best and why?"
   ]
  },
  {
   "cell_type": "markdown",
   "metadata": {
    "id": "DFBtR_CANhAZ"
   },
   "source": [
    "### Your answer:"
   ]
  },
  {
   "cell_type": "markdown",
   "metadata": {
    "id": "0GRJZpTfNhAa"
   },
   "source": [
    "#### Loading and pre-processing dataset"
   ]
  },
  {
   "cell_type": "code",
   "execution_count": null,
   "metadata": {
    "colab": {
     "base_uri": "https://localhost:8080/",
     "height": 74
    },
    "executionInfo": {
     "elapsed": 5343,
     "status": "ok",
     "timestamp": 1710805149308,
     "user": {
      "displayName": "Miguel A Gomez De Franco",
      "userId": "00945378091175456648"
     },
     "user_tz": 300
    },
    "id": "cTqRnZ_f7h-a",
    "outputId": "74751d25-a39b-452d-fb9c-58b5787f4e6e"
   },
   "outputs": [
    {
     "data": {
      "text/html": [
       "\n",
       "     <input type=\"file\" id=\"files-306e34cf-d12b-4ed6-b583-49001fe336c6\" name=\"files[]\" multiple disabled\n",
       "        style=\"border:none\" />\n",
       "     <output id=\"result-306e34cf-d12b-4ed6-b583-49001fe336c6\">\n",
       "      Upload widget is only available when the cell has been executed in the\n",
       "      current browser session. Please rerun this cell to enable.\n",
       "      </output>\n",
       "      <script>// Copyright 2017 Google LLC\n",
       "//\n",
       "// Licensed under the Apache License, Version 2.0 (the \"License\");\n",
       "// you may not use this file except in compliance with the License.\n",
       "// You may obtain a copy of the License at\n",
       "//\n",
       "//      http://www.apache.org/licenses/LICENSE-2.0\n",
       "//\n",
       "// Unless required by applicable law or agreed to in writing, software\n",
       "// distributed under the License is distributed on an \"AS IS\" BASIS,\n",
       "// WITHOUT WARRANTIES OR CONDITIONS OF ANY KIND, either express or implied.\n",
       "// See the License for the specific language governing permissions and\n",
       "// limitations under the License.\n",
       "\n",
       "/**\n",
       " * @fileoverview Helpers for google.colab Python module.\n",
       " */\n",
       "(function(scope) {\n",
       "function span(text, styleAttributes = {}) {\n",
       "  const element = document.createElement('span');\n",
       "  element.textContent = text;\n",
       "  for (const key of Object.keys(styleAttributes)) {\n",
       "    element.style[key] = styleAttributes[key];\n",
       "  }\n",
       "  return element;\n",
       "}\n",
       "\n",
       "// Max number of bytes which will be uploaded at a time.\n",
       "const MAX_PAYLOAD_SIZE = 100 * 1024;\n",
       "\n",
       "function _uploadFiles(inputId, outputId) {\n",
       "  const steps = uploadFilesStep(inputId, outputId);\n",
       "  const outputElement = document.getElementById(outputId);\n",
       "  // Cache steps on the outputElement to make it available for the next call\n",
       "  // to uploadFilesContinue from Python.\n",
       "  outputElement.steps = steps;\n",
       "\n",
       "  return _uploadFilesContinue(outputId);\n",
       "}\n",
       "\n",
       "// This is roughly an async generator (not supported in the browser yet),\n",
       "// where there are multiple asynchronous steps and the Python side is going\n",
       "// to poll for completion of each step.\n",
       "// This uses a Promise to block the python side on completion of each step,\n",
       "// then passes the result of the previous step as the input to the next step.\n",
       "function _uploadFilesContinue(outputId) {\n",
       "  const outputElement = document.getElementById(outputId);\n",
       "  const steps = outputElement.steps;\n",
       "\n",
       "  const next = steps.next(outputElement.lastPromiseValue);\n",
       "  return Promise.resolve(next.value.promise).then((value) => {\n",
       "    // Cache the last promise value to make it available to the next\n",
       "    // step of the generator.\n",
       "    outputElement.lastPromiseValue = value;\n",
       "    return next.value.response;\n",
       "  });\n",
       "}\n",
       "\n",
       "/**\n",
       " * Generator function which is called between each async step of the upload\n",
       " * process.\n",
       " * @param {string} inputId Element ID of the input file picker element.\n",
       " * @param {string} outputId Element ID of the output display.\n",
       " * @return {!Iterable<!Object>} Iterable of next steps.\n",
       " */\n",
       "function* uploadFilesStep(inputId, outputId) {\n",
       "  const inputElement = document.getElementById(inputId);\n",
       "  inputElement.disabled = false;\n",
       "\n",
       "  const outputElement = document.getElementById(outputId);\n",
       "  outputElement.innerHTML = '';\n",
       "\n",
       "  const pickedPromise = new Promise((resolve) => {\n",
       "    inputElement.addEventListener('change', (e) => {\n",
       "      resolve(e.target.files);\n",
       "    });\n",
       "  });\n",
       "\n",
       "  const cancel = document.createElement('button');\n",
       "  inputElement.parentElement.appendChild(cancel);\n",
       "  cancel.textContent = 'Cancel upload';\n",
       "  const cancelPromise = new Promise((resolve) => {\n",
       "    cancel.onclick = () => {\n",
       "      resolve(null);\n",
       "    };\n",
       "  });\n",
       "\n",
       "  // Wait for the user to pick the files.\n",
       "  const files = yield {\n",
       "    promise: Promise.race([pickedPromise, cancelPromise]),\n",
       "    response: {\n",
       "      action: 'starting',\n",
       "    }\n",
       "  };\n",
       "\n",
       "  cancel.remove();\n",
       "\n",
       "  // Disable the input element since further picks are not allowed.\n",
       "  inputElement.disabled = true;\n",
       "\n",
       "  if (!files) {\n",
       "    return {\n",
       "      response: {\n",
       "        action: 'complete',\n",
       "      }\n",
       "    };\n",
       "  }\n",
       "\n",
       "  for (const file of files) {\n",
       "    const li = document.createElement('li');\n",
       "    li.append(span(file.name, {fontWeight: 'bold'}));\n",
       "    li.append(span(\n",
       "        `(${file.type || 'n/a'}) - ${file.size} bytes, ` +\n",
       "        `last modified: ${\n",
       "            file.lastModifiedDate ? file.lastModifiedDate.toLocaleDateString() :\n",
       "                                    'n/a'} - `));\n",
       "    const percent = span('0% done');\n",
       "    li.appendChild(percent);\n",
       "\n",
       "    outputElement.appendChild(li);\n",
       "\n",
       "    const fileDataPromise = new Promise((resolve) => {\n",
       "      const reader = new FileReader();\n",
       "      reader.onload = (e) => {\n",
       "        resolve(e.target.result);\n",
       "      };\n",
       "      reader.readAsArrayBuffer(file);\n",
       "    });\n",
       "    // Wait for the data to be ready.\n",
       "    let fileData = yield {\n",
       "      promise: fileDataPromise,\n",
       "      response: {\n",
       "        action: 'continue',\n",
       "      }\n",
       "    };\n",
       "\n",
       "    // Use a chunked sending to avoid message size limits. See b/62115660.\n",
       "    let position = 0;\n",
       "    do {\n",
       "      const length = Math.min(fileData.byteLength - position, MAX_PAYLOAD_SIZE);\n",
       "      const chunk = new Uint8Array(fileData, position, length);\n",
       "      position += length;\n",
       "\n",
       "      const base64 = btoa(String.fromCharCode.apply(null, chunk));\n",
       "      yield {\n",
       "        response: {\n",
       "          action: 'append',\n",
       "          file: file.name,\n",
       "          data: base64,\n",
       "        },\n",
       "      };\n",
       "\n",
       "      let percentDone = fileData.byteLength === 0 ?\n",
       "          100 :\n",
       "          Math.round((position / fileData.byteLength) * 100);\n",
       "      percent.textContent = `${percentDone}% done`;\n",
       "\n",
       "    } while (position < fileData.byteLength);\n",
       "  }\n",
       "\n",
       "  // All done.\n",
       "  yield {\n",
       "    response: {\n",
       "      action: 'complete',\n",
       "    }\n",
       "  };\n",
       "}\n",
       "\n",
       "scope.google = scope.google || {};\n",
       "scope.google.colab = scope.google.colab || {};\n",
       "scope.google.colab._files = {\n",
       "  _uploadFiles,\n",
       "  _uploadFilesContinue,\n",
       "};\n",
       "})(self);\n",
       "</script> "
      ],
      "text/plain": [
       "<IPython.core.display.HTML object>"
      ]
     },
     "metadata": {},
     "output_type": "display_data"
    },
    {
     "name": "stdout",
     "output_type": "stream",
     "text": [
      "Saving spamdata.mat to spamdata.mat\n"
     ]
    }
   ],
   "source": [
    "# Adding this cell to upload spam file from canvas\n",
    "from google.colab import files\n",
    "uploaded = files.upload()"
   ]
  },
  {
   "cell_type": "code",
   "execution_count": null,
   "metadata": {
    "id": "MS0PyiIlNhAa"
   },
   "outputs": [],
   "source": [
    "import matplotlib.pyplot as plt\n",
    "import pandas as pd\n",
    "import numpy as np\n",
    "from sklearn.model_selection import (train_test_split,GridSearchCV)\n",
    "from sklearn.metrics import (accuracy_score,roc_auc_score)\n",
    "from sklearn.ensemble import (RandomForestClassifier,GradientBoostingClassifier,AdaBoostClassifier)\n",
    "import scipy.io\n",
    "\n",
    "\n",
    "dataFile = 'spamdata.mat'\n",
    "data = scipy.io.loadmat(dataFile)['spamdata']\n",
    "x_total = data[:,0:57]\n",
    "y_total = data[:,57]\n",
    "x_train, x_test, y_train, y_test = train_test_split(x_total, y_total, test_size=0.33, random_state=42)"
   ]
  },
  {
   "cell_type": "markdown",
   "metadata": {
    "id": "De9EmFBrNhAa"
   },
   "source": [
    "#### Part 1 (**5 pts**)"
   ]
  },
  {
   "cell_type": "code",
   "execution_count": null,
   "metadata": {
    "id": "DYMQSmWRNhAa"
   },
   "outputs": [],
   "source": [
    "# Part 1: (5 pts) Use a Decision Tree Classifier with random_state = 10 and\n",
    "# Logistic Regression with random_state = 10 and solver =\"lbfgs\" for the spam\n",
    "# classification problem. Report the accuracy_score and roc_auc_score on the\n",
    "# test data for each classifier.\n",
    "\n",
    "# Import the models.\n",
    "from sklearn.linear_model import LogisticRegression\n",
    "from sklearn.tree import DecisionTreeClassifier"
   ]
  },
  {
   "cell_type": "code",
   "execution_count": null,
   "metadata": {
    "id": "mwoAoYHb9Nm0"
   },
   "outputs": [],
   "source": [
    "# Create models\n",
    "DTmodel = DecisionTreeClassifier(random_state=10)\n",
    "LRmodel = LogisticRegression(max_iter=10000, random_state=10, solver=\"lbfgs\")"
   ]
  },
  {
   "cell_type": "code",
   "execution_count": null,
   "metadata": {
    "id": "XA7y33Z_-Ru7"
   },
   "outputs": [],
   "source": [
    "DTmodelTrained = DTmodel.fit(x_train, y_train)\n"
   ]
  },
  {
   "cell_type": "code",
   "execution_count": null,
   "metadata": {
    "id": "bO9eXAZ1DM9x"
   },
   "outputs": [],
   "source": [
    "LRmodelTrained = LRmodel.fit(x_train, y_train)"
   ]
  },
  {
   "cell_type": "code",
   "execution_count": null,
   "metadata": {
    "id": "90Mbq4RNDeNu"
   },
   "outputs": [],
   "source": [
    "y_predict_DT = DTmodelTrained.predict(x_test)"
   ]
  },
  {
   "cell_type": "code",
   "execution_count": null,
   "metadata": {
    "id": "hdH4-Z9xFncy"
   },
   "outputs": [],
   "source": [
    "y_predict_LR = LRmodelTrained.predict(x_test)"
   ]
  },
  {
   "cell_type": "code",
   "execution_count": null,
   "metadata": {
    "colab": {
     "base_uri": "https://localhost:8080/"
    },
    "executionInfo": {
     "elapsed": 93,
     "status": "ok",
     "timestamp": 1710808557561,
     "user": {
      "displayName": "Miguel A Gomez De Franco",
      "userId": "00945378091175456648"
     },
     "user_tz": 300
    },
    "id": "_MrgLNUtHCTV",
    "outputId": "b82f92f0-5822-46a5-d92b-001bc45a78a3"
   },
   "outputs": [
    {
     "name": "stdout",
     "output_type": "stream",
     "text": [
      "Accuracy score Decision Tree Model: 0.9038841342988808\n",
      "Accuracy score Logistic Regression Model: 0.9256089532587228\n"
     ]
    }
   ],
   "source": [
    "print(\"Accuracy score Decision Tree Model: {}\".format(accuracy_score(y_true=y_test, y_pred=y_predict_DT)))\n",
    "print(\"Accuracy score Logistic Regression Model: {}\".format(accuracy_score(y_true=y_test, y_pred=y_predict_LR)))"
   ]
  },
  {
   "cell_type": "code",
   "execution_count": null,
   "metadata": {
    "colab": {
     "base_uri": "https://localhost:8080/"
    },
    "executionInfo": {
     "elapsed": 165,
     "status": "ok",
     "timestamp": 1710810907738,
     "user": {
      "displayName": "Miguel A Gomez De Franco",
      "userId": "00945378091175456648"
     },
     "user_tz": 300
    },
    "id": "wKXbNb0MId3d",
    "outputId": "7e4d4020-8bfb-4e02-da04-560bb9fc91af"
   },
   "outputs": [
    {
     "name": "stdout",
     "output_type": "stream",
     "text": [
      "ROC AUC Score Decision Tree Model: 0.903872196513792\n",
      "ROC AUC Score Logistic Regression Model: 0.9744726150904864\n"
     ]
    }
   ],
   "source": [
    "print(\"ROC AUC Score Decision Tree Model: {}\".format(roc_auc_score(y_test, DTmodelTrained.predict_proba(x_test)[:,1])))\n",
    "print(\"ROC AUC Score Logistic Regression Model: {}\".format(roc_auc_score(y_test, LRmodelTrained.predict_proba(x_test)[:,1])))"
   ]
  },
  {
   "cell_type": "markdown",
   "metadata": {
    "id": "urPi16yrNhAa"
   },
   "source": [
    "#### Part 2 (**5 pts**)"
   ]
  },
  {
   "cell_type": "code",
   "execution_count": null,
   "metadata": {
    "id": "xh5AVs1CNhAa"
   },
   "outputs": [],
   "source": [
    "# Part 2: (5 pts) Create an ensemble of 50 classifiers (i.e., n_estimators = 50)\n",
    "# with random_state = 10 for bagging with base classifiers being Decision Tree\n",
    "# Classifier and Logistic Regression from part  1. Report accuracy_score and\n",
    "# roc_auc_score on the test data for both Bagging classifiers. Compare the\n",
    "# results and briefly explain the effect of using bagging for the spam\n",
    "# classification problem for both the Logistic Regression and Decision Tree\n",
    "# base classifiers.\n",
    "\n",
    "from sklearn.ensemble import BaggingClassifier"
   ]
  },
  {
   "cell_type": "code",
   "execution_count": null,
   "metadata": {
    "id": "KEjB3PRQTJma"
   },
   "outputs": [],
   "source": [
    "DTbaggingModel = BaggingClassifier(estimator=DTmodel, n_estimators=50, random_state=10)"
   ]
  },
  {
   "cell_type": "code",
   "execution_count": null,
   "metadata": {
    "id": "hmfx80xpTpG1"
   },
   "outputs": [],
   "source": [
    "LRbaggingModel = BaggingClassifier(estimator=LRmodel, n_estimators=50, random_state=10)"
   ]
  },
  {
   "cell_type": "code",
   "execution_count": null,
   "metadata": {
    "id": "Key0jX4SUxEU"
   },
   "outputs": [],
   "source": [
    "DTbaggingModelTrained = DTbaggingModel.fit(x_train, y_train)\n",
    "LRbaggingModelTrained = LRbaggingModel.fit(x_train, y_train)"
   ]
  },
  {
   "cell_type": "code",
   "execution_count": null,
   "metadata": {
    "colab": {
     "base_uri": "https://localhost:8080/"
    },
    "executionInfo": {
     "elapsed": 124,
     "status": "ok",
     "timestamp": 1710811883845,
     "user": {
      "displayName": "Miguel A Gomez De Franco",
      "userId": "00945378091175456648"
     },
     "user_tz": 300
    },
    "id": "fk732uN3VCuF",
    "outputId": "61398797-7c50-49eb-dd5d-b5ccc9ccebe7"
   },
   "outputs": [
    {
     "name": "stdout",
     "output_type": "stream",
     "text": [
      "Accuracy score Decision Tree Model: 0.9414088215931534\n",
      "Accuracy score Logistic Regression Model: 0.9282422646477946\n"
     ]
    }
   ],
   "source": [
    "y_predict_DTBagging = DTbaggingModelTrained.predict(x_test)\n",
    "y_predict_LRBagging = LRbaggingModelTrained.predict(x_test)\n",
    "print(\"Accuracy score Decision Tree Model: {}\".format(accuracy_score(y_true=y_test, y_pred=y_predict_DTBagging)))\n",
    "print(\"Accuracy score Logistic Regression Model: {}\".format(accuracy_score(y_true=y_test, y_pred=y_predict_LRBagging)))"
   ]
  },
  {
   "cell_type": "code",
   "execution_count": null,
   "metadata": {
    "colab": {
     "base_uri": "https://localhost:8080/"
    },
    "executionInfo": {
     "elapsed": 302,
     "status": "ok",
     "timestamp": 1710811913224,
     "user": {
      "displayName": "Miguel A Gomez De Franco",
      "userId": "00945378091175456648"
     },
     "user_tz": 300
    },
    "id": "jSmDBA7MVS22",
    "outputId": "6322f4c0-55ef-4bcc-e174-c9e49e52083b"
   },
   "outputs": [
    {
     "name": "stdout",
     "output_type": "stream",
     "text": [
      "ROC AUC Score Decision Tree Model: 0.9799954014498107\n",
      "ROC AUC Score Logistic Regression Model: 0.9762233229775431\n"
     ]
    }
   ],
   "source": [
    "print(\"ROC AUC Score Decision Tree Model: {}\".format(roc_auc_score(y_test, DTbaggingModelTrained.predict_proba(x_test)[:,1])))\n",
    "print(\"ROC AUC Score Logistic Regression Model: {}\".format(roc_auc_score(y_test, LRbaggingModelTrained.predict_proba(x_test)[:,1])))"
   ]
  },
  {
   "cell_type": "markdown",
   "metadata": {
    "id": "l3iilFuyX60j"
   },
   "source": [
    "There is a noticeable improvement in the scores obtained by both models after applying bagging. This can be due to several factors:\n",
    "\n",
    "- Since bagging uses multiple instances of amodel on different subsets of the data, it reduces the variance of the model and prevents overfitting.\n",
    "\n",
    "- Bagging helps capture complex relationships in the data by training multiple models on different subsets of data. This is helpful especially for Logistic Regression which is a linear model and can have reduced performance on non-linear relationships in the data. Since we are averaging the results of multiple models, the model deals better with complex data.\n",
    "\n",
    "- Bagging also helps with noise and outliers in data. Since the models are trained on different subsets of data, the influence of noisy samples is reduced.\n",
    "\n",
    "- Finally, bagging deals better with imbalanced data because it trains multiple models on different subsets of the data. Therefore, the overall model won't be biased towards the majority class of the entire dataset."
   ]
  },
  {
   "cell_type": "markdown",
   "metadata": {
    "id": "_sK00UW-NhAa"
   },
   "source": [
    "#### Part 3 (**5 pts**)"
   ]
  },
  {
   "cell_type": "code",
   "execution_count": null,
   "metadata": {
    "id": "qS5NGNyvNhAa"
   },
   "outputs": [],
   "source": [
    "# Part 3: (5 pts) Use a Random Forest to classify whether an email is spam.\n",
    "# Report your testing accuracy (accuracy_score) and roc_auc_score. You will\n",
    "# need predict_proba for roc_auc_score.\n",
    "\n",
    "# Showing performance of a model with default parameters first\n",
    "RFmodel = RandomForestClassifier()"
   ]
  },
  {
   "cell_type": "code",
   "execution_count": null,
   "metadata": {
    "id": "djF4GEvIeaeo"
   },
   "outputs": [],
   "source": [
    "RFmodelTrained = RFmodel.fit(x_train, y_train)\n",
    "y_predict_RF = RFmodelTrained.predict(x_test)"
   ]
  },
  {
   "cell_type": "code",
   "execution_count": null,
   "metadata": {
    "colab": {
     "base_uri": "https://localhost:8080/"
    },
    "executionInfo": {
     "elapsed": 111,
     "status": "ok",
     "timestamp": 1710814405463,
     "user": {
      "displayName": "Miguel A Gomez De Franco",
      "userId": "00945378091175456648"
     },
     "user_tz": 300
    },
    "id": "NrvVceW2ewrQ",
    "outputId": "0b9519bb-57b6-486b-ee92-7b2546186560"
   },
   "outputs": [
    {
     "name": "stdout",
     "output_type": "stream",
     "text": [
      "Accuracy score Random Forest Model: 0.9447004608294931\n",
      "ROC AUC Score Random Forest Model: 0.9866162274508099\n"
     ]
    }
   ],
   "source": [
    "print(\"Accuracy score Random Forest Model: {}\".format(accuracy_score(y_true=y_test, y_pred=y_predict_RF)))\n",
    "print(\"ROC AUC Score Random Forest Model: {}\".format(roc_auc_score(y_test, RFmodelTrained.predict_proba(x_test)[:,1])))"
   ]
  },
  {
   "cell_type": "code",
   "execution_count": null,
   "metadata": {
    "colab": {
     "base_uri": "https://localhost:8080/"
    },
    "executionInfo": {
     "elapsed": 1324,
     "status": "ok",
     "timestamp": 1710815981717,
     "user": {
      "displayName": "Miguel A Gomez De Franco",
      "userId": "00945378091175456648"
     },
     "user_tz": 300
    },
    "id": "TN0_GzI_ib3I",
    "outputId": "cc81fe12-9b32-4897-a2ee-0c05a36fd591"
   },
   "outputs": [
    {
     "name": "stdout",
     "output_type": "stream",
     "text": [
      "Accuracy score Random Forest Model: 0.9447004608294931\n",
      "ROC AUC Score Random Forest Model: 0.9872516963943021\n"
     ]
    }
   ],
   "source": [
    "# Modifying hyper-parameters to match previous models\n",
    "RFmodel2 = RandomForestClassifier(random_state=10, n_estimators=50)\n",
    "RFmodelTrained2 = RFmodel.fit(x_train, y_train)\n",
    "y_predict_RF2 = RFmodelTrained2.predict(x_test)\n",
    "print(\"Accuracy score Random Forest Model: {}\".format(accuracy_score(y_true=y_test, y_pred=y_predict_RF2)))\n",
    "print(\"ROC AUC Score Random Forest Model: {}\".format(roc_auc_score(y_test, RFmodelTrained2.predict_proba(x_test)[:,1])))"
   ]
  },
  {
   "cell_type": "code",
   "execution_count": null,
   "metadata": {
    "colab": {
     "base_uri": "https://localhost:8080/"
    },
    "executionInfo": {
     "elapsed": 279918,
     "status": "ok",
     "timestamp": 1710816580814,
     "user": {
      "displayName": "Miguel A Gomez De Franco",
      "userId": "00945378091175456648"
     },
     "user_tz": 300
    },
    "id": "eHYMFsm3kKsL",
    "outputId": "889bd289-07e1-4d55-c6d1-fdc8b6c78ab0"
   },
   "outputs": [
    {
     "name": "stdout",
     "output_type": "stream",
     "text": [
      "Best Parameters: {'max_depth': None, 'min_samples_leaf': 1, 'min_samples_split': 2, 'n_estimators': 200}\n",
      "Best ROC AUC Score: 0.9850286854937316\n"
     ]
    }
   ],
   "source": [
    "# Using grid search cv to find the optimal hyper parameters\n",
    "# Hyper parameter grid\n",
    "param_grid = {\n",
    "    'n_estimators': [50, 100, 200],\n",
    "    'max_depth': [None, 10, 20],\n",
    "    'min_samples_split': [2, 5, 10],\n",
    "    'min_samples_leaf': [1, 2, 4]\n",
    "}\n",
    "\n",
    "RFmodel3 = RandomForestClassifier(random_state=10)\n",
    "GS_RF = GridSearchCV(estimator=RFmodel3, param_grid=param_grid, cv=5, scoring='roc_auc')\n",
    "GS_RF.fit(x_train, y_train)\n",
    "print(\"Best Parameters:\", GS_RF.best_params_)\n",
    "print(\"Best ROC AUC Score:\", GS_RF.best_score_)"
   ]
  },
  {
   "cell_type": "code",
   "execution_count": null,
   "metadata": {
    "colab": {
     "base_uri": "https://localhost:8080/"
    },
    "executionInfo": {
     "elapsed": 222,
     "status": "ok",
     "timestamp": 1710816634077,
     "user": {
      "displayName": "Miguel A Gomez De Franco",
      "userId": "00945378091175456648"
     },
     "user_tz": 300
    },
    "id": "Uh0TupGWmTH_",
    "outputId": "9c16f7a0-3210-473f-a9d2-a8d3a344b0b5"
   },
   "outputs": [
    {
     "name": "stdout",
     "output_type": "stream",
     "text": [
      "Accuracy score Random Forest Model: 0.9499670836076366\n",
      "ROC AUC Score Random Forest Model: 0.9876771528094608\n"
     ]
    }
   ],
   "source": [
    "# performance on the test set\n",
    "y_predict_GS_RF = GS_RF.predict(x_test)\n",
    "print(\"Accuracy score Random Forest Model: {}\".format(accuracy_score(y_true=y_test, y_pred=y_predict_GS_RF)))\n",
    "print(\"ROC AUC Score Random Forest Model: {}\".format(roc_auc_score(y_test, GS_RF.predict_proba(x_test)[:,1])))"
   ]
  },
  {
   "cell_type": "markdown",
   "metadata": {
    "id": "_bU35G5dNhAa"
   },
   "source": [
    "#### Part 4 (**5 pts**)"
   ]
  },
  {
   "cell_type": "code",
   "execution_count": null,
   "metadata": {
    "id": "6cZSWMJWNhAa"
   },
   "outputs": [],
   "source": [
    "# Part 4: (5 pts) Use Gradient Boosting Decision Tree (GBDT), and AdaBoost for\n",
    "# the spam classification problem. Report accuracy_score and roc_auc_score on the\n",
    "# test data for each algorithm.\n",
    "\n",
    "# Showing performance of models with default parameters first\n",
    "GBDTmodel = GradientBoostingClassifier()\n",
    "ADBmodel = AdaBoostClassifier()"
   ]
  },
  {
   "cell_type": "code",
   "execution_count": null,
   "metadata": {
    "id": "q1Mt7gSFgTLk"
   },
   "outputs": [],
   "source": [
    "GBDTmodelTrained = GBDTmodel.fit(x_train, y_train)\n",
    "ADBmodelTrained = ADBmodel.fit(x_train, y_train)"
   ]
  },
  {
   "cell_type": "code",
   "execution_count": null,
   "metadata": {
    "id": "_wRawOlvhLjE"
   },
   "outputs": [],
   "source": [
    "y_predict_GBDT = GBDTmodelTrained.predict(x_test)\n",
    "y_predict_ADB = ADBmodelTrained.predict(x_test)"
   ]
  },
  {
   "cell_type": "code",
   "execution_count": null,
   "metadata": {
    "colab": {
     "base_uri": "https://localhost:8080/"
    },
    "executionInfo": {
     "elapsed": 114,
     "status": "ok",
     "timestamp": 1710815084591,
     "user": {
      "displayName": "Miguel A Gomez De Franco",
      "userId": "00945378091175456648"
     },
     "user_tz": 300
    },
    "id": "-YhC4Gnngrmk",
    "outputId": "96aa7468-2327-4290-b7fd-a76931667c47"
   },
   "outputs": [
    {
     "name": "stdout",
     "output_type": "stream",
     "text": [
      "Accuracy score GBDT Model: 0.9493087557603687\n",
      "Accuracy score ADB Model: 0.9381171823568137\n"
     ]
    }
   ],
   "source": [
    "print(\"Accuracy score GBDT Model: {}\".format(accuracy_score(y_true=y_test, y_pred=y_predict_GBDT)))\n",
    "print(\"Accuracy score ADB Model: {}\".format(accuracy_score(y_true=y_test, y_pred=y_predict_ADB)))"
   ]
  },
  {
   "cell_type": "code",
   "execution_count": null,
   "metadata": {
    "colab": {
     "base_uri": "https://localhost:8080/"
    },
    "executionInfo": {
     "elapsed": 97,
     "status": "ok",
     "timestamp": 1710815090113,
     "user": {
      "displayName": "Miguel A Gomez De Franco",
      "userId": "00945378091175456648"
     },
     "user_tz": 300
    },
    "id": "py5iwglzg6iD",
    "outputId": "6c80a1a7-d4d5-4b94-fc0e-db1d2ec65d98"
   },
   "outputs": [
    {
     "name": "stdout",
     "output_type": "stream",
     "text": [
      "ROC AUC Score GBDT Model: 0.9851560972430425\n",
      "ROC AUC Score ADB Model: 0.9781994322419925\n"
     ]
    }
   ],
   "source": [
    "print(\"ROC AUC Score GBDT Model: {}\".format(roc_auc_score(y_test, GBDTmodelTrained.predict_proba(x_test)[:,1])))\n",
    "print(\"ROC AUC Score ADB Model: {}\".format(roc_auc_score(y_test, ADBmodelTrained.predict_proba(x_test)[:,1])))"
   ]
  },
  {
   "cell_type": "code",
   "execution_count": null,
   "metadata": {
    "colab": {
     "base_uri": "https://localhost:8080/"
    },
    "executionInfo": {
     "elapsed": 1178,
     "status": "ok",
     "timestamp": 1710816582224,
     "user": {
      "displayName": "Miguel A Gomez De Franco",
      "userId": "00945378091175456648"
     },
     "user_tz": 300
    },
    "id": "rCiRTw6mhwOH",
    "outputId": "740a764b-3e65-4beb-8c65-f3c8d67624d8"
   },
   "outputs": [
    {
     "name": "stdout",
     "output_type": "stream",
     "text": [
      "Accuracy score GBDT Model: 0.9427254772876893\n",
      "Accuracy score ADB Model: 0.9381171823568137\n",
      "ROC AUC Score GBDT Model: 0.9829645440917683\n",
      "ROC AUC Score ADB Model: 0.9781994322419925\n"
     ]
    }
   ],
   "source": [
    "# Modifying hyper-parameters to match previous models\n",
    "GBDTmodel2 = GradientBoostingClassifier(n_estimators=50, random_state=10)\n",
    "ADBmodel2 = AdaBoostClassifier(n_estimators=50, random_state=10)\n",
    "GBDTmodelTrained2 = GBDTmodel2.fit(x_train, y_train)\n",
    "ADBmodelTrained2 = ADBmodel2.fit(x_train, y_train)\n",
    "y_predict_GBDT2 = GBDTmodelTrained2.predict(x_test)\n",
    "y_predict_ADB2 = ADBmodelTrained2.predict(x_test)\n",
    "print(\"Accuracy score GBDT Model: {}\".format(accuracy_score(y_true=y_test, y_pred=y_predict_GBDT2)))\n",
    "print(\"Accuracy score ADB Model: {}\".format(accuracy_score(y_true=y_test, y_pred=y_predict_ADB2)))\n",
    "print(\"ROC AUC Score GBDT Model: {}\".format(roc_auc_score(y_test, GBDTmodelTrained2.predict_proba(x_test)[:,1])))\n",
    "print(\"ROC AUC Score ADB Model: {}\".format(roc_auc_score(y_test, ADBmodelTrained2.predict_proba(x_test)[:,1])))"
   ]
  },
  {
   "cell_type": "code",
   "execution_count": null,
   "metadata": {
    "colab": {
     "base_uri": "https://localhost:8080/"
    },
    "executionInfo": {
     "elapsed": 350887,
     "status": "ok",
     "timestamp": 1710817046750,
     "user": {
      "displayName": "Miguel A Gomez De Franco",
      "userId": "00945378091175456648"
     },
     "user_tz": 300
    },
    "id": "hymtPRMXnFNw",
    "outputId": "d0774f12-2394-4924-c762-83c74e6a344c"
   },
   "outputs": [
    {
     "name": "stdout",
     "output_type": "stream",
     "text": [
      "Best Parameters: {'learning_rate': 0.1, 'max_depth': 7, 'n_estimators': 200}\n",
      "Best ROC AUC Score: 0.9860456210132437\n"
     ]
    }
   ],
   "source": [
    "# Using grid search cv to find the optimal hyper parameters\n",
    "# Hyper parameter grid\n",
    "param_grid = {\n",
    "    'n_estimators': [50, 100, 200],\n",
    "    'learning_rate': [0.01, 0.1, 0.5],\n",
    "    'max_depth': [3, 5, 7]\n",
    "}\n",
    "\n",
    "GBDTmodel3 = GradientBoostingClassifier(random_state=10)\n",
    "GS_GBDT = GridSearchCV(estimator=GBDTmodel3, param_grid=param_grid, cv=5, scoring='roc_auc')\n",
    "GS_GBDT.fit(x_train, y_train)\n",
    "print(\"Best Parameters:\", GS_GBDT.best_params_)\n",
    "print(\"Best ROC AUC Score:\", GS_GBDT.best_score_)"
   ]
  },
  {
   "cell_type": "code",
   "execution_count": null,
   "metadata": {
    "colab": {
     "base_uri": "https://localhost:8080/"
    },
    "executionInfo": {
     "elapsed": 97,
     "status": "ok",
     "timestamp": 1710818886729,
     "user": {
      "displayName": "Miguel A Gomez De Franco",
      "userId": "00945378091175456648"
     },
     "user_tz": 300
    },
    "id": "s2mm90evnxzx",
    "outputId": "5efd7403-26b6-4da7-999e-e96c8c6853d8"
   },
   "outputs": [
    {
     "name": "stdout",
     "output_type": "stream",
     "text": [
      "Accuracy score GBDT Model: 0.9532587228439763\n",
      "ROC AUC Score GBDT Model: 0.9883560726208839\n"
     ]
    }
   ],
   "source": [
    "# performance on the test set\n",
    "y_predict_GS_GBDT = GS_GBDT.predict(x_test)\n",
    "print(\"Accuracy score GBDT Model: {}\".format(accuracy_score(y_true=y_test, y_pred=y_predict_GS_GBDT)))\n",
    "print(\"ROC AUC Score GBDT Model: {}\".format(roc_auc_score(y_test, GS_GBDT.predict_proba(x_test)[:,1])))"
   ]
  },
  {
   "cell_type": "code",
   "execution_count": null,
   "metadata": {
    "id": "uT4dFtsnoCAU"
   },
   "outputs": [],
   "source": [
    "# Hyper parameter grid\n",
    "param_grid = {\n",
    "    'n_estimators': [50, 100, 200],\n",
    "    'learning_rate': [0.01, 0.1, 0.5],\n",
    "    'estimator__max_depth': [1, 2, 3]\n",
    "}\n",
    "\n",
    "# Base estimator for AdaBoost\n",
    "base_estimator = DecisionTreeClassifier(random_state=42)\n",
    "\n",
    "ADBmodel3 = AdaBoostClassifier(estimator=base_estimator, random_state=10)\n",
    "GS_ADB = GridSearchCV(estimator=ADBmodel3, param_grid=param_grid, cv=5, scoring='roc_auc')"
   ]
  },
  {
   "cell_type": "code",
   "execution_count": null,
   "metadata": {
    "colab": {
     "base_uri": "https://localhost:8080/"
    },
    "executionInfo": {
     "elapsed": 175806,
     "status": "ok",
     "timestamp": 1710818133028,
     "user": {
      "displayName": "Miguel A Gomez De Franco",
      "userId": "00945378091175456648"
     },
     "user_tz": 300
    },
    "id": "HN2GVD6kpaZj",
    "outputId": "3de7a90a-5c57-4641-dfeb-19267ca98b5b"
   },
   "outputs": [
    {
     "name": "stdout",
     "output_type": "stream",
     "text": [
      "Best Parameters: {'estimator__max_depth': 2, 'learning_rate': 0.1, 'n_estimators': 200}\n",
      "Best ROC AUC Score: 0.9825852211959164\n"
     ]
    }
   ],
   "source": [
    "GS_ADB.fit(X=x_train, y=y_train)\n",
    "print(\"Best Parameters:\", GS_ADB.best_params_)\n",
    "print(\"Best ROC AUC Score:\", GS_ADB.best_score_)"
   ]
  },
  {
   "cell_type": "code",
   "execution_count": null,
   "metadata": {
    "colab": {
     "base_uri": "https://localhost:8080/"
    },
    "executionInfo": {
     "elapsed": 576,
     "status": "ok",
     "timestamp": 1710818901360,
     "user": {
      "displayName": "Miguel A Gomez De Franco",
      "userId": "00945378091175456648"
     },
     "user_tz": 300
    },
    "id": "tLaJ6mfroCix",
    "outputId": "3c3c2b03-c677-4bfd-b513-6b508c90d928"
   },
   "outputs": [
    {
     "name": "stdout",
     "output_type": "stream",
     "text": [
      "Accuracy score ADB Model: 0.9499670836076366\n",
      "ROC AUC ScoreADB Model: 0.9861862449035752\n"
     ]
    }
   ],
   "source": [
    "# performance on the test set\n",
    "y_predict_GS_ADB = GS_ADB.predict(x_test)\n",
    "print(\"Accuracy score ADB Model: {}\".format(accuracy_score(y_true=y_test, y_pred=y_predict_GS_ADB)))\n",
    "print(\"ROC AUC ScoreADB Model: {}\".format(roc_auc_score(y_test, GS_ADB.predict_proba(x_test)[:,1])))"
   ]
  },
  {
   "cell_type": "markdown",
   "metadata": {
    "id": "XEFA_HFtNhAa"
   },
   "source": [
    "#### Part 5 (**2 pts**)"
   ]
  },
  {
   "cell_type": "markdown",
   "metadata": {
    "id": "mkDn-_SqNhAa"
   },
   "source": [
    "Both in the Accuracy score and the ROC AUC Score, GBDT performed the best in this experiment. That being said, the difference in scores accross al models is very small, so it seems like deciding which has the best performance is highly dependent on the dataset used to evaluate them. From the research I've done during this experiment, each method seems to have it's strengths and weaknesses:\n",
    "\n",
    "Random Forest (RF):\n",
    "\n",
    "\n",
    "\n",
    "> Strengths: RF is highly robust to overfitting due to its ensemble nature and the use of multiple decision trees. It works well with high-dimensional data and is less sensitive to outliers compared to single decision trees. RF is also computationally efficient and can handle large datasets.\n",
    "\n",
    "\n",
    "> Weaknesses: RF may not perform as well as Gradient Boosting or AdaBoost on structured data with strong interdependencies between features. It can also be less interpretable compared to single decision trees.\n",
    "\n",
    "Gradient Boosting Decision Trees (GBDT):\n",
    "\n",
    "> Strengths: GBDT sequentially builds decision trees, focusing on the errors made by previous trees, which often leads to higher predictive accuracy compared to Random Forest. It's capable of capturing complex relationships in the data and typically achieves better performance on structured/tabular data.\n",
    "\n",
    "> Weaknesses: GBDT is more prone to overfitting compared to Random Forest, especially when the number of trees (iterations) is large. It can also be computationally expensive and may require more tuning of hyperparameters.\n",
    "\n",
    "AdaBoost:\n",
    "\n",
    "> Strengths: AdaBoost focuses on improving the performance of weak learners by sequentially adjusting the weights of misclassified instances. It can achieve good generalization performance even with relatively simple base models. AdaBoost is less prone to overfitting compared to GBDT.\n",
    "\n",
    "> Weaknesses: AdaBoost can be sensitive to noisy data and outliers, as it tries to fit the data points with higher weights in later iterations. It may also be computationally expensive, especially if the base model is complex.\n"
   ]
  },
  {
   "cell_type": "markdown",
   "metadata": {
    "id": "h9b6sFpCNhAa"
   },
   "source": [
    "# <font color='blue'> Problem 4: Support Vector Machines (15 pts) </font>\n",
    "Let us revisit the task of classifying e-mails as spam vs. not spam. To solve this problem, we will use the SVM with a polynomial kernel. You are allowed to use any existing [libraries](https://scikit-learn.org/stable/modules/svm.html). You can find the dataset file 'spamdata.mat' in Canvas, just below this assignment. Use the first 3000 examples for training, the last 1600 for testing. Start by randomly splitting the training data into ten equal-sized disjoint sets. For each value of the polynomial degree d = {1, 2, 3, 4}, plot the average cross-validation error as a function of the cost (regularization) parameter C. Vary C from a small value C = $2^{-k}$ to C = $2^{k}$, choosing k so that you see a significant variation in training error (from a very high training error to a low training error). Let ($C^{*}, d^{*}$) be the best pair of parameters you identified; from that point on, fix $C = C^{*}$. Plot the ten-fold cross-validation error and the test errors for the hypotheses obtained as a function of d.\n",
    "\n",
    "**Part 1: (3 pts)** Load data 'spamdata.mat' with [scipy.io.loadmat](https://docs.scipy.org/doc/scipy/reference/generated/scipy.io.loadmat.html) and print out the shape of X and y.\n",
    "\n",
    "**Part 2: cross validation (8 pts)**\n",
    "Train the SVM with different kernel degrees and regularization constants. Save the results corresponding to different parameters.\n",
    "\n",
    "**Part 3: plotting results (4 pts)**\n",
    "Plot the results corresponding to different parameters and choose the best hyperparameters."
   ]
  },
  {
   "cell_type": "code",
   "execution_count": 10,
   "metadata": {
    "executionInfo": {
     "elapsed": 2177,
     "status": "ok",
     "timestamp": 1711062358261,
     "user": {
      "displayName": "Miguel A Gomez De Franco",
      "userId": "00945378091175456648"
     },
     "user_tz": 300
    },
    "id": "NxQcbULrNhAb"
   },
   "outputs": [],
   "source": [
    "import scipy.io\n",
    "import numpy as np\n",
    "import pandas as pd\n",
    "from statistics import mean\n",
    "import matplotlib.pyplot as plt\n",
    "from sklearn import svm\n",
    "from sklearn.model_selection import cross_val_score, KFold, GridSearchCV\n",
    "from sklearn.model_selection import train_test_split"
   ]
  },
  {
   "cell_type": "markdown",
   "metadata": {
    "id": "ty16xRYgNhAb"
   },
   "source": [
    "### Your answer:"
   ]
  },
  {
   "cell_type": "markdown",
   "metadata": {
    "id": "8Tqb3IpXNhAg"
   },
   "source": [
    "#### Part 1 (**3 pts**)"
   ]
  },
  {
   "cell_type": "code",
   "execution_count": 17,
   "metadata": {
    "colab": {
     "base_uri": "https://localhost:8080/",
     "height": 74
    },
    "executionInfo": {
     "elapsed": 3858,
     "status": "ok",
     "timestamp": 1711066486009,
     "user": {
      "displayName": "Miguel A Gomez De Franco",
      "userId": "00945378091175456648"
     },
     "user_tz": 300
    },
    "id": "2z1kJnXoNhAg",
    "outputId": "4ef86476-1d67-47d9-f627-8533cdf722bb"
   },
   "outputs": [
    {
     "data": {
      "text/html": [
       "\n",
       "     <input type=\"file\" id=\"files-f074ab78-2c13-4448-88c1-bcbea5710995\" name=\"files[]\" multiple disabled\n",
       "        style=\"border:none\" />\n",
       "     <output id=\"result-f074ab78-2c13-4448-88c1-bcbea5710995\">\n",
       "      Upload widget is only available when the cell has been executed in the\n",
       "      current browser session. Please rerun this cell to enable.\n",
       "      </output>\n",
       "      <script>// Copyright 2017 Google LLC\n",
       "//\n",
       "// Licensed under the Apache License, Version 2.0 (the \"License\");\n",
       "// you may not use this file except in compliance with the License.\n",
       "// You may obtain a copy of the License at\n",
       "//\n",
       "//      http://www.apache.org/licenses/LICENSE-2.0\n",
       "//\n",
       "// Unless required by applicable law or agreed to in writing, software\n",
       "// distributed under the License is distributed on an \"AS IS\" BASIS,\n",
       "// WITHOUT WARRANTIES OR CONDITIONS OF ANY KIND, either express or implied.\n",
       "// See the License for the specific language governing permissions and\n",
       "// limitations under the License.\n",
       "\n",
       "/**\n",
       " * @fileoverview Helpers for google.colab Python module.\n",
       " */\n",
       "(function(scope) {\n",
       "function span(text, styleAttributes = {}) {\n",
       "  const element = document.createElement('span');\n",
       "  element.textContent = text;\n",
       "  for (const key of Object.keys(styleAttributes)) {\n",
       "    element.style[key] = styleAttributes[key];\n",
       "  }\n",
       "  return element;\n",
       "}\n",
       "\n",
       "// Max number of bytes which will be uploaded at a time.\n",
       "const MAX_PAYLOAD_SIZE = 100 * 1024;\n",
       "\n",
       "function _uploadFiles(inputId, outputId) {\n",
       "  const steps = uploadFilesStep(inputId, outputId);\n",
       "  const outputElement = document.getElementById(outputId);\n",
       "  // Cache steps on the outputElement to make it available for the next call\n",
       "  // to uploadFilesContinue from Python.\n",
       "  outputElement.steps = steps;\n",
       "\n",
       "  return _uploadFilesContinue(outputId);\n",
       "}\n",
       "\n",
       "// This is roughly an async generator (not supported in the browser yet),\n",
       "// where there are multiple asynchronous steps and the Python side is going\n",
       "// to poll for completion of each step.\n",
       "// This uses a Promise to block the python side on completion of each step,\n",
       "// then passes the result of the previous step as the input to the next step.\n",
       "function _uploadFilesContinue(outputId) {\n",
       "  const outputElement = document.getElementById(outputId);\n",
       "  const steps = outputElement.steps;\n",
       "\n",
       "  const next = steps.next(outputElement.lastPromiseValue);\n",
       "  return Promise.resolve(next.value.promise).then((value) => {\n",
       "    // Cache the last promise value to make it available to the next\n",
       "    // step of the generator.\n",
       "    outputElement.lastPromiseValue = value;\n",
       "    return next.value.response;\n",
       "  });\n",
       "}\n",
       "\n",
       "/**\n",
       " * Generator function which is called between each async step of the upload\n",
       " * process.\n",
       " * @param {string} inputId Element ID of the input file picker element.\n",
       " * @param {string} outputId Element ID of the output display.\n",
       " * @return {!Iterable<!Object>} Iterable of next steps.\n",
       " */\n",
       "function* uploadFilesStep(inputId, outputId) {\n",
       "  const inputElement = document.getElementById(inputId);\n",
       "  inputElement.disabled = false;\n",
       "\n",
       "  const outputElement = document.getElementById(outputId);\n",
       "  outputElement.innerHTML = '';\n",
       "\n",
       "  const pickedPromise = new Promise((resolve) => {\n",
       "    inputElement.addEventListener('change', (e) => {\n",
       "      resolve(e.target.files);\n",
       "    });\n",
       "  });\n",
       "\n",
       "  const cancel = document.createElement('button');\n",
       "  inputElement.parentElement.appendChild(cancel);\n",
       "  cancel.textContent = 'Cancel upload';\n",
       "  const cancelPromise = new Promise((resolve) => {\n",
       "    cancel.onclick = () => {\n",
       "      resolve(null);\n",
       "    };\n",
       "  });\n",
       "\n",
       "  // Wait for the user to pick the files.\n",
       "  const files = yield {\n",
       "    promise: Promise.race([pickedPromise, cancelPromise]),\n",
       "    response: {\n",
       "      action: 'starting',\n",
       "    }\n",
       "  };\n",
       "\n",
       "  cancel.remove();\n",
       "\n",
       "  // Disable the input element since further picks are not allowed.\n",
       "  inputElement.disabled = true;\n",
       "\n",
       "  if (!files) {\n",
       "    return {\n",
       "      response: {\n",
       "        action: 'complete',\n",
       "      }\n",
       "    };\n",
       "  }\n",
       "\n",
       "  for (const file of files) {\n",
       "    const li = document.createElement('li');\n",
       "    li.append(span(file.name, {fontWeight: 'bold'}));\n",
       "    li.append(span(\n",
       "        `(${file.type || 'n/a'}) - ${file.size} bytes, ` +\n",
       "        `last modified: ${\n",
       "            file.lastModifiedDate ? file.lastModifiedDate.toLocaleDateString() :\n",
       "                                    'n/a'} - `));\n",
       "    const percent = span('0% done');\n",
       "    li.appendChild(percent);\n",
       "\n",
       "    outputElement.appendChild(li);\n",
       "\n",
       "    const fileDataPromise = new Promise((resolve) => {\n",
       "      const reader = new FileReader();\n",
       "      reader.onload = (e) => {\n",
       "        resolve(e.target.result);\n",
       "      };\n",
       "      reader.readAsArrayBuffer(file);\n",
       "    });\n",
       "    // Wait for the data to be ready.\n",
       "    let fileData = yield {\n",
       "      promise: fileDataPromise,\n",
       "      response: {\n",
       "        action: 'continue',\n",
       "      }\n",
       "    };\n",
       "\n",
       "    // Use a chunked sending to avoid message size limits. See b/62115660.\n",
       "    let position = 0;\n",
       "    do {\n",
       "      const length = Math.min(fileData.byteLength - position, MAX_PAYLOAD_SIZE);\n",
       "      const chunk = new Uint8Array(fileData, position, length);\n",
       "      position += length;\n",
       "\n",
       "      const base64 = btoa(String.fromCharCode.apply(null, chunk));\n",
       "      yield {\n",
       "        response: {\n",
       "          action: 'append',\n",
       "          file: file.name,\n",
       "          data: base64,\n",
       "        },\n",
       "      };\n",
       "\n",
       "      let percentDone = fileData.byteLength === 0 ?\n",
       "          100 :\n",
       "          Math.round((position / fileData.byteLength) * 100);\n",
       "      percent.textContent = `${percentDone}% done`;\n",
       "\n",
       "    } while (position < fileData.byteLength);\n",
       "  }\n",
       "\n",
       "  // All done.\n",
       "  yield {\n",
       "    response: {\n",
       "      action: 'complete',\n",
       "    }\n",
       "  };\n",
       "}\n",
       "\n",
       "scope.google = scope.google || {};\n",
       "scope.google.colab = scope.google.colab || {};\n",
       "scope.google.colab._files = {\n",
       "  _uploadFiles,\n",
       "  _uploadFilesContinue,\n",
       "};\n",
       "})(self);\n",
       "</script> "
      ],
      "text/plain": [
       "<IPython.core.display.HTML object>"
      ]
     },
     "metadata": {},
     "output_type": "display_data"
    },
    {
     "name": "stdout",
     "output_type": "stream",
     "text": [
      "Saving spamdata.mat to spamdata.mat\n"
     ]
    }
   ],
   "source": [
    "# Upload spam file from canvas\n",
    "from google.colab import files\n",
    "uploaded = files.upload()"
   ]
  },
  {
   "cell_type": "code",
   "execution_count": 18,
   "metadata": {
    "executionInfo": {
     "elapsed": 103,
     "status": "ok",
     "timestamp": 1711066486969,
     "user": {
      "displayName": "Miguel A Gomez De Franco",
      "userId": "00945378091175456648"
     },
     "user_tz": 300
    },
    "id": "hhfZKDXDMXWe"
   },
   "outputs": [],
   "source": [
    "dataFile = 'spamdata.mat'\n",
    "data = scipy.io.loadmat(dataFile)['spamdata']"
   ]
  },
  {
   "cell_type": "code",
   "execution_count": 19,
   "metadata": {
    "executionInfo": {
     "elapsed": 108,
     "status": "ok",
     "timestamp": 1711066489777,
     "user": {
      "displayName": "Miguel A Gomez De Franco",
      "userId": "00945378091175456648"
     },
     "user_tz": 300
    },
    "id": "W9goKOK9NxBd"
   },
   "outputs": [],
   "source": [
    "x_all = data[:,0:57] # feature columns\n",
    "y_all = data[:,57] # labels column"
   ]
  },
  {
   "cell_type": "code",
   "execution_count": 20,
   "metadata": {
    "colab": {
     "base_uri": "https://localhost:8080/"
    },
    "executionInfo": {
     "elapsed": 132,
     "status": "ok",
     "timestamp": 1711066490737,
     "user": {
      "displayName": "Miguel A Gomez De Franco",
      "userId": "00945378091175456648"
     },
     "user_tz": 300
    },
    "id": "rYiOL1KmORf3",
    "outputId": "36d6522b-1a4b-4e82-f79d-47b8e7b8732d"
   },
   "outputs": [
    {
     "name": "stdout",
     "output_type": "stream",
     "text": [
      "x shape: (4601, 57)\n",
      "y shape: (4601,)\n"
     ]
    }
   ],
   "source": [
    "print(\"x shape: {}\".format(x_all.shape))\n",
    "print(\"y shape: {}\".format(y_all.shape))"
   ]
  },
  {
   "cell_type": "code",
   "execution_count": 21,
   "metadata": {
    "executionInfo": {
     "elapsed": 101,
     "status": "ok",
     "timestamp": 1711066491860,
     "user": {
      "displayName": "Miguel A Gomez De Franco",
      "userId": "00945378091175456648"
     },
     "user_tz": 300
    },
    "id": "B1tuL5JoO8Iu"
   },
   "outputs": [],
   "source": [
    "x_train, x_test, y_train, y_test = train_test_split(x_all, y_all, train_size=0.6520321669202347, shuffle=False)"
   ]
  },
  {
   "cell_type": "code",
   "execution_count": 22,
   "metadata": {
    "colab": {
     "base_uri": "https://localhost:8080/"
    },
    "executionInfo": {
     "elapsed": 105,
     "status": "ok",
     "timestamp": 1711066492955,
     "user": {
      "displayName": "Miguel A Gomez De Franco",
      "userId": "00945378091175456648"
     },
     "user_tz": 300
    },
    "id": "QacN3ja0QpOm",
    "outputId": "370c7e8d-28b6-40c5-9293-491e0f301ba7"
   },
   "outputs": [
    {
     "name": "stdout",
     "output_type": "stream",
     "text": [
      "x train shape: (3000, 57)\n",
      "y train shape: (3000,)\n",
      "x test shape: (1601, 57)\n",
      "y test shape: (1601,)\n"
     ]
    }
   ],
   "source": [
    "print(\"x train shape: {}\".format(x_train.shape))\n",
    "print(\"y train shape: {}\".format(y_train.shape))\n",
    "print(\"x test shape: {}\".format(x_test.shape))\n",
    "print(\"y test shape: {}\".format(y_test.shape))"
   ]
  },
  {
   "cell_type": "markdown",
   "metadata": {
    "id": "HPQyZCS8NhAg"
   },
   "source": [
    "#### Part 2 (**8 pts**)"
   ]
  },
  {
   "cell_type": "code",
   "execution_count": null,
   "metadata": {
    "id": "Iv-xcu60NhAg"
   },
   "outputs": [],
   "source": [
    "# Start by randomly splitting the training data into ten equal-sized disjoint sets.\n",
    "kf = KFold(n_splits=10, shuffle=True, random_state=42)"
   ]
  },
  {
   "cell_type": "code",
   "execution_count": 38,
   "metadata": {
    "executionInfo": {
     "elapsed": 112,
     "status": "ok",
     "timestamp": 1711070419253,
     "user": {
      "displayName": "Miguel A Gomez De Franco",
      "userId": "00945378091175456648"
     },
     "user_tz": 300
    },
    "id": "RRNxl11BV1bI"
   },
   "outputs": [],
   "source": [
    "# Parameters for CV search\n",
    "k = 5"
   ]
  },
  {
   "cell_type": "code",
   "execution_count": null,
   "metadata": {
    "colab": {
     "base_uri": "https://localhost:8080/"
    },
    "executionInfo": {
     "elapsed": 2,
     "status": "ok",
     "timestamp": 1710982309025,
     "user": {
      "displayName": "Miguel A Gomez De Franco",
      "userId": "00945378091175456648"
     },
     "user_tz": 300
    },
    "id": "musD1pyFY985",
    "outputId": "20d3a5db-57d3-4da9-ede0-9611b7003144"
   },
   "outputs": [
    {
     "name": "stdout",
     "output_type": "stream",
     "text": [
      "[0.03125, 0.0625, 0.125, 0.25, 0.5, 1, 2, 4, 8, 16, 32]\n"
     ]
    }
   ],
   "source": [
    "c_range = list()\n",
    "for i in range(-k,k+1):\n",
    "  c_range.append(pow(2,i))\n",
    "print(c_range)"
   ]
  },
  {
   "cell_type": "code",
   "execution_count": 15,
   "metadata": {
    "executionInfo": {
     "elapsed": 105,
     "status": "ok",
     "timestamp": 1711066393571,
     "user": {
      "displayName": "Miguel A Gomez De Franco",
      "userId": "00945378091175456648"
     },
     "user_tz": 300
    },
    "id": "HCu7_mVqcsFi"
   },
   "outputs": [],
   "source": [
    "degrees = [1, 2, 3, 4]"
   ]
  },
  {
   "cell_type": "code",
   "execution_count": null,
   "metadata": {
    "colab": {
     "base_uri": "https://localhost:8080/"
    },
    "executionInfo": {
     "elapsed": 1003426,
     "status": "ok",
     "timestamp": 1710902729150,
     "user": {
      "displayName": "Miguel A Gomez De Franco",
      "userId": "00945378091175456648"
     },
     "user_tz": 300
    },
    "id": "Stc8zLkDczYS",
    "outputId": "d6c38c2f-a3b7-4f38-a9c9-ffde29201648"
   },
   "outputs": [
    {
     "name": "stderr",
     "output_type": "stream",
     "text": [
      "[Parallel(n_jobs=-1)]: Using backend LokyBackend with 2 concurrent workers.\n",
      "[Parallel(n_jobs=-1)]: Done  10 out of  10 | elapsed:    5.6s finished\n",
      "[Parallel(n_jobs=-1)]: Using backend LokyBackend with 2 concurrent workers.\n",
      "[Parallel(n_jobs=-1)]: Done  10 out of  10 | elapsed:    4.2s finished\n",
      "[Parallel(n_jobs=-1)]: Using backend LokyBackend with 2 concurrent workers.\n",
      "[Parallel(n_jobs=-1)]: Done  10 out of  10 | elapsed:    6.3s finished\n",
      "[Parallel(n_jobs=-1)]: Using backend LokyBackend with 2 concurrent workers.\n",
      "[Parallel(n_jobs=-1)]: Done  10 out of  10 | elapsed:   58.3s finished\n",
      "[Parallel(n_jobs=-1)]: Using backend LokyBackend with 2 concurrent workers.\n",
      "[Parallel(n_jobs=-1)]: Done  10 out of  10 | elapsed:    3.7s finished\n",
      "[Parallel(n_jobs=-1)]: Using backend LokyBackend with 2 concurrent workers.\n",
      "[Parallel(n_jobs=-1)]: Done  10 out of  10 | elapsed:    5.4s finished\n",
      "[Parallel(n_jobs=-1)]: Using backend LokyBackend with 2 concurrent workers.\n",
      "[Parallel(n_jobs=-1)]: Done  10 out of  10 | elapsed:    5.2s finished\n",
      "[Parallel(n_jobs=-1)]: Using backend LokyBackend with 2 concurrent workers.\n",
      "[Parallel(n_jobs=-1)]: Done  10 out of  10 | elapsed:   45.0s finished\n",
      "[Parallel(n_jobs=-1)]: Using backend LokyBackend with 2 concurrent workers.\n",
      "[Parallel(n_jobs=-1)]: Done  10 out of  10 | elapsed:    3.4s finished\n",
      "[Parallel(n_jobs=-1)]: Using backend LokyBackend with 2 concurrent workers.\n",
      "[Parallel(n_jobs=-1)]: Done  10 out of  10 | elapsed:    4.7s finished\n",
      "[Parallel(n_jobs=-1)]: Using backend LokyBackend with 2 concurrent workers.\n",
      "[Parallel(n_jobs=-1)]: Done  10 out of  10 | elapsed:    7.1s finished\n",
      "[Parallel(n_jobs=-1)]: Using backend LokyBackend with 2 concurrent workers.\n",
      "[Parallel(n_jobs=-1)]: Done  10 out of  10 | elapsed:  1.8min finished\n",
      "[Parallel(n_jobs=-1)]: Using backend LokyBackend with 2 concurrent workers.\n",
      "[Parallel(n_jobs=-1)]: Done  10 out of  10 | elapsed:    3.3s finished\n",
      "[Parallel(n_jobs=-1)]: Using backend LokyBackend with 2 concurrent workers.\n",
      "[Parallel(n_jobs=-1)]: Done  10 out of  10 | elapsed:    4.8s finished\n",
      "[Parallel(n_jobs=-1)]: Using backend LokyBackend with 2 concurrent workers.\n",
      "[Parallel(n_jobs=-1)]: Done  10 out of  10 | elapsed:    7.7s finished\n",
      "[Parallel(n_jobs=-1)]: Using backend LokyBackend with 2 concurrent workers.\n",
      "[Parallel(n_jobs=-1)]: Done  10 out of  10 | elapsed:  2.4min finished\n",
      "[Parallel(n_jobs=-1)]: Using backend LokyBackend with 2 concurrent workers.\n",
      "[Parallel(n_jobs=-1)]: Done  10 out of  10 | elapsed:    3.4s finished\n",
      "[Parallel(n_jobs=-1)]: Using backend LokyBackend with 2 concurrent workers.\n",
      "[Parallel(n_jobs=-1)]: Done  10 out of  10 | elapsed:    5.2s finished\n",
      "[Parallel(n_jobs=-1)]: Using backend LokyBackend with 2 concurrent workers.\n",
      "[Parallel(n_jobs=-1)]: Done  10 out of  10 | elapsed:    8.7s finished\n",
      "[Parallel(n_jobs=-1)]: Using backend LokyBackend with 2 concurrent workers.\n",
      "[Parallel(n_jobs=-1)]: Done  10 out of  10 | elapsed:  2.6min finished\n",
      "[Parallel(n_jobs=-1)]: Using backend LokyBackend with 2 concurrent workers.\n",
      "[Parallel(n_jobs=-1)]: Done  10 out of  10 | elapsed:    3.3s finished\n",
      "[Parallel(n_jobs=-1)]: Using backend LokyBackend with 2 concurrent workers.\n",
      "[Parallel(n_jobs=-1)]: Done  10 out of  10 | elapsed:    7.9s finished\n",
      "[Parallel(n_jobs=-1)]: Using backend LokyBackend with 2 concurrent workers.\n",
      "[Parallel(n_jobs=-1)]: Done  10 out of  10 | elapsed:   10.8s finished\n",
      "[Parallel(n_jobs=-1)]: Using backend LokyBackend with 2 concurrent workers.\n",
      "[Parallel(n_jobs=-1)]: Done  10 out of  10 | elapsed:  4.0min finished\n",
      "[Parallel(n_jobs=-1)]: Using backend LokyBackend with 2 concurrent workers.\n",
      "[Parallel(n_jobs=-1)]: Done  10 out of  10 | elapsed:    4.7s finished\n",
      "[Parallel(n_jobs=-1)]: Using backend LokyBackend with 2 concurrent workers.\n",
      "[Parallel(n_jobs=-1)]: Done  10 out of  10 | elapsed:    6.8s finished\n",
      "[Parallel(n_jobs=-1)]: Using backend LokyBackend with 2 concurrent workers.\n",
      "[Parallel(n_jobs=-1)]: Done  10 out of  10 | elapsed:   17.2s finished\n",
      "[Parallel(n_jobs=-1)]: Using backend LokyBackend with 2 concurrent workers.\n",
      "[Parallel(n_jobs=-1)]: Done  10 out of  10 | elapsed:  4.9min finished\n",
      "[Parallel(n_jobs=-1)]: Using backend LokyBackend with 2 concurrent workers.\n",
      "[Parallel(n_jobs=-1)]: Done  10 out of  10 | elapsed:    3.6s finished\n",
      "[Parallel(n_jobs=-1)]: Using backend LokyBackend with 2 concurrent workers.\n",
      "[Parallel(n_jobs=-1)]: Done  10 out of  10 | elapsed:   17.1s finished\n",
      "[Parallel(n_jobs=-1)]: Using backend LokyBackend with 2 concurrent workers.\n",
      "[Parallel(n_jobs=-1)]: Done  10 out of  10 | elapsed:  1.5min finished\n",
      "[Parallel(n_jobs=-1)]: Using backend LokyBackend with 2 concurrent workers.\n",
      "[Parallel(n_jobs=-1)]: Done  10 out of  10 | elapsed:  8.6min finished\n",
      "[Parallel(n_jobs=-1)]: Using backend LokyBackend with 2 concurrent workers.\n",
      "[Parallel(n_jobs=-1)]: Done  10 out of  10 | elapsed:    5.1s finished\n",
      "[Parallel(n_jobs=-1)]: Using backend LokyBackend with 2 concurrent workers.\n",
      "[Parallel(n_jobs=-1)]: Done  10 out of  10 | elapsed:   19.5s finished\n",
      "[Parallel(n_jobs=-1)]: Using backend LokyBackend with 2 concurrent workers.\n",
      "[Parallel(n_jobs=-1)]: Done  10 out of  10 | elapsed:  1.3min finished\n",
      "[Parallel(n_jobs=-1)]: Using backend LokyBackend with 2 concurrent workers.\n",
      "[Parallel(n_jobs=-1)]: Done  10 out of  10 | elapsed: 11.9min finished\n",
      "[Parallel(n_jobs=-1)]: Using backend LokyBackend with 2 concurrent workers.\n",
      "[Parallel(n_jobs=-1)]: Done  10 out of  10 | elapsed:    4.4s finished\n",
      "[Parallel(n_jobs=-1)]: Using backend LokyBackend with 2 concurrent workers.\n",
      "[Parallel(n_jobs=-1)]: Done  10 out of  10 | elapsed:   21.9s finished\n",
      "[Parallel(n_jobs=-1)]: Using backend LokyBackend with 2 concurrent workers.\n",
      "[Parallel(n_jobs=-1)]: Done  10 out of  10 | elapsed:  2.5min finished\n",
      "[Parallel(n_jobs=-1)]: Using backend LokyBackend with 2 concurrent workers.\n",
      "[Parallel(n_jobs=-1)]: Done  10 out of  10 | elapsed:  9.4min finished\n",
      "[Parallel(n_jobs=-1)]: Using backend LokyBackend with 2 concurrent workers.\n",
      "[Parallel(n_jobs=-1)]: Done  10 out of  10 | elapsed:    4.7s finished\n",
      "[Parallel(n_jobs=-1)]: Using backend LokyBackend with 2 concurrent workers.\n",
      "[Parallel(n_jobs=-1)]: Done  10 out of  10 | elapsed:   24.5s finished\n",
      "[Parallel(n_jobs=-1)]: Using backend LokyBackend with 2 concurrent workers.\n",
      "[Parallel(n_jobs=-1)]: Done  10 out of  10 | elapsed:  4.3min finished\n",
      "[Parallel(n_jobs=-1)]: Using backend LokyBackend with 2 concurrent workers.\n",
      "[Parallel(n_jobs=-1)]: Done  10 out of  10 | elapsed:  8.2min finished\n"
     ]
    }
   ],
   "source": [
    "# calculate the scores through cross validation\n",
    "c_d_scores = []\n",
    "for c in c_range:\n",
    "  for d in degrees:\n",
    "    scores = cross_val_score(svm.SVC(kernel='poly', C=c, degree=d), X=x_train, y=y_train, cv=kf, n_jobs=-1, verbose=1)\n",
    "    c_d_scores.append((c, d, scores))\n"
   ]
  },
  {
   "cell_type": "code",
   "execution_count": 4,
   "metadata": {
    "executionInfo": {
     "elapsed": 96,
     "status": "ok",
     "timestamp": 1711062324953,
     "user": {
      "displayName": "Miguel A Gomez De Franco",
      "userId": "00945378091175456648"
     },
     "user_tz": 300
    },
    "id": "aVumcnCuw1lC"
   },
   "outputs": [],
   "source": [
    "c_d_scores = data"
   ]
  },
  {
   "cell_type": "code",
   "execution_count": 5,
   "metadata": {
    "colab": {
     "base_uri": "https://localhost:8080/"
    },
    "executionInfo": {
     "elapsed": 111,
     "status": "ok",
     "timestamp": 1711062328392,
     "user": {
      "displayName": "Miguel A Gomez De Franco",
      "userId": "00945378091175456648"
     },
     "user_tz": 300
    },
    "id": "pcDkWwztYDsh",
    "outputId": "c50f7785-87e4-4ae4-cbbc-2a3efb9efdce"
   },
   "outputs": [
    {
     "data": {
      "text/plain": [
       "0.665"
      ]
     },
     "execution_count": 5,
     "metadata": {},
     "output_type": "execute_result"
    }
   ],
   "source": [
    "c_d_scores[0][2]\n",
    "np.mean(c_d_scores[0][2])"
   ]
  },
  {
   "cell_type": "code",
   "execution_count": 6,
   "metadata": {
    "colab": {
     "base_uri": "https://localhost:8080/"
    },
    "executionInfo": {
     "elapsed": 100,
     "status": "ok",
     "timestamp": 1711062337043,
     "user": {
      "displayName": "Miguel A Gomez De Franco",
      "userId": "00945378091175456648"
     },
     "user_tz": 300
    },
    "id": "z09mB37tdpU2",
    "outputId": "5586d640-77bf-4dc2-c8ee-cc3ec4d291f4"
   },
   "outputs": [
    {
     "name": "stdout",
     "output_type": "stream",
     "text": [
      "C = 0.03125, degrees = 1, Average Score = 0.665\n",
      "C = 0.03125, degrees = 2, Average Score = 0.6506666666666667\n",
      "C = 0.03125, degrees = 3, Average Score = 0.6493333333333333\n",
      "C = 0.03125, degrees = 4, Average Score = 0.643\n",
      "C = 0.0625, degrees = 1, Average Score = 0.6693333333333332\n",
      "C = 0.0625, degrees = 2, Average Score = 0.6576666666666666\n",
      "C = 0.0625, degrees = 3, Average Score = 0.6523333333333333\n",
      "C = 0.0625, degrees = 4, Average Score = 0.6453333333333333\n",
      "C = 0.125, degrees = 1, Average Score = 0.6686666666666666\n",
      "C = 0.125, degrees = 2, Average Score = 0.662\n",
      "C = 0.125, degrees = 3, Average Score = 0.654\n",
      "C = 0.125, degrees = 4, Average Score = 0.6476666666666666\n",
      "C = 0.25, degrees = 1, Average Score = 0.6803333333333332\n",
      "C = 0.25, degrees = 2, Average Score = 0.6653333333333334\n",
      "C = 0.25, degrees = 3, Average Score = 0.6553333333333333\n",
      "C = 0.25, degrees = 4, Average Score = 0.647\n",
      "C = 0.5, degrees = 1, Average Score = 0.6926666666666667\n",
      "C = 0.5, degrees = 2, Average Score = 0.6666666666666667\n",
      "C = 0.5, degrees = 3, Average Score = 0.6573333333333334\n",
      "C = 0.5, degrees = 4, Average Score = 0.6506666666666667\n",
      "C = 1.0, degrees = 1, Average Score = 0.7023333333333334\n",
      "C = 1.0, degrees = 2, Average Score = 0.669\n",
      "C = 1.0, degrees = 3, Average Score = 0.6576666666666667\n",
      "C = 1.0, degrees = 4, Average Score = 0.6553333333333333\n",
      "C = 2.0, degrees = 1, Average Score = 0.709\n",
      "C = 2.0, degrees = 2, Average Score = 0.6696666666666669\n",
      "C = 2.0, degrees = 3, Average Score = 0.6579999999999999\n",
      "C = 2.0, degrees = 4, Average Score = 0.661\n",
      "C = 4.0, degrees = 1, Average Score = 0.7220000000000001\n",
      "C = 4.0, degrees = 2, Average Score = 0.671\n",
      "C = 4.0, degrees = 3, Average Score = 0.6596666666666666\n",
      "C = 4.0, degrees = 4, Average Score = 0.6639999999999999\n",
      "C = 8.0, degrees = 1, Average Score = 0.7296666666666667\n",
      "C = 8.0, degrees = 2, Average Score = 0.6766666666666665\n",
      "C = 8.0, degrees = 3, Average Score = 0.6646666666666666\n",
      "C = 8.0, degrees = 4, Average Score = 0.6673333333333333\n",
      "C = 16.0, degrees = 1, Average Score = 0.734\n",
      "C = 16.0, degrees = 2, Average Score = 0.6826666666666668\n",
      "C = 16.0, degrees = 3, Average Score = 0.6690000000000002\n",
      "C = 16.0, degrees = 4, Average Score = 0.6709999999999999\n",
      "C = 32.0, degrees = 1, Average Score = 0.7409999999999999\n",
      "C = 32.0, degrees = 2, Average Score = 0.6903333333333335\n",
      "C = 32.0, degrees = 3, Average Score = 0.6739999999999999\n",
      "C = 32.0, degrees = 4, Average Score = 0.6766666666666666\n"
     ]
    }
   ],
   "source": [
    "c_d_scores_avg = []\n",
    "for row in c_d_scores:\n",
    "  c_d_scores_avg.append((row[0],row[1], np.mean(row[2])))\n",
    "  print(\"C = {}, degrees = {}, Average Score = {}\".format(c_d_scores_avg[-1][0], c_d_scores_avg[-1][1], c_d_scores_avg[-1][2]))"
   ]
  },
  {
   "cell_type": "code",
   "execution_count": null,
   "metadata": {
    "colab": {
     "base_uri": "https://localhost:8080/"
    },
    "executionInfo": {
     "elapsed": 88,
     "status": "ok",
     "timestamp": 1710903649421,
     "user": {
      "displayName": "Miguel A Gomez De Franco",
      "userId": "00945378091175456648"
     },
     "user_tz": 300
    },
    "id": "DIDWsy4PzTIT",
    "outputId": "e907ee6a-ff09-4e4d-923d-82124f20907b"
   },
   "outputs": [
    {
     "name": "stdout",
     "output_type": "stream",
     "text": [
      "Data has been saved to c_d_scores.csv\n"
     ]
    }
   ],
   "source": [
    "import csv\n",
    "\n",
    "# Specify the file path\n",
    "file_path = 'c_d_scores.csv'\n",
    "\n",
    "# Write data to CSV file\n",
    "with open(file_path, 'w', newline='') as csvfile:\n",
    "    writer = csv.writer(csvfile)\n",
    "    # Write header\n",
    "    writer.writerow(['Parameter 1', 'Parameter 2', 'Values'])\n",
    "    # Write rows\n",
    "    for row in c_d_scores:\n",
    "        writer.writerow([row[0], row[1], ','.join(map(str, row[2]))])\n",
    "\n",
    "print(f\"Data has been saved to {file_path}\")"
   ]
  },
  {
   "cell_type": "code",
   "execution_count": 1,
   "metadata": {
    "colab": {
     "base_uri": "https://localhost:8080/"
    },
    "executionInfo": {
     "elapsed": 132,
     "status": "ok",
     "timestamp": 1711062297078,
     "user": {
      "displayName": "Miguel A Gomez De Franco",
      "userId": "00945378091175456648"
     },
     "user_tz": 300
    },
    "id": "r4RCaeplzzVa",
    "outputId": "6907f156-0665-4a08-932c-d8e9679b51c1"
   },
   "outputs": [
    {
     "name": "stdout",
     "output_type": "stream",
     "text": [
      "[(0.03125, 1, array([0.63      , 0.64333333, 0.68333333, 0.65333333, 0.67333333,\n",
      "       0.67      , 0.69333333, 0.64      , 0.65666667, 0.70666667])), (0.03125, 2, array([0.61666667, 0.65      , 0.67666667, 0.63333333, 0.65      ,\n",
      "       0.66333333, 0.67666667, 0.60666667, 0.63666667, 0.69666667])), (0.03125, 3, array([0.61      , 0.65      , 0.68      , 0.63666667, 0.65      ,\n",
      "       0.66      , 0.67333333, 0.60666667, 0.64      , 0.68666667])), (0.03125, 4, array([0.61      , 0.63666667, 0.66666667, 0.62      , 0.64666667,\n",
      "       0.66      , 0.67      , 0.60333333, 0.63      , 0.68666667])), (0.0625, 1, array([0.63666667, 0.65      , 0.7       , 0.66333333, 0.67333333,\n",
      "       0.67      , 0.69333333, 0.64      , 0.66333333, 0.70333333])), (0.0625, 2, array([0.62333333, 0.65333333, 0.68333333, 0.64      , 0.65666667,\n",
      "       0.66666667, 0.68333333, 0.62      , 0.64666667, 0.70333333])), (0.0625, 3, array([0.61666667, 0.65      , 0.68      , 0.63666667, 0.65      ,\n",
      "       0.66      , 0.67333333, 0.61666667, 0.64666667, 0.69333333])), (0.0625, 4, array([0.61      , 0.64666667, 0.67      , 0.62      , 0.64666667,\n",
      "       0.66      , 0.67      , 0.60666667, 0.63333333, 0.69      ])), (0.125, 1, array([0.63333333, 0.64666667, 0.69666667, 0.65666667, 0.67333333,\n",
      "       0.66666667, 0.7       , 0.64333333, 0.66333333, 0.70666667])), (0.125, 2, array([0.62666667, 0.65      , 0.68      , 0.64666667, 0.66666667,\n",
      "       0.67      , 0.68666667, 0.62333333, 0.66333333, 0.70666667])), (0.125, 3, array([0.62      , 0.65      , 0.68      , 0.64      , 0.64666667,\n",
      "       0.66333333, 0.67666667, 0.61666667, 0.65333333, 0.69333333])), (0.125, 4, array([0.61      , 0.65      , 0.67666667, 0.62666667, 0.64666667,\n",
      "       0.66      , 0.67333333, 0.61      , 0.63      , 0.69333333])), (0.25, 1, array([0.64333333, 0.66333333, 0.7       , 0.67666667, 0.68333333,\n",
      "       0.67666667, 0.71666667, 0.64666667, 0.68      , 0.71666667])), (0.25, 2, array([0.64      , 0.65      , 0.68666667, 0.65333333, 0.67      ,\n",
      "       0.66666667, 0.68666667, 0.62666667, 0.66666667, 0.70666667])), (0.25, 3, array([0.62333333, 0.65      , 0.68333333, 0.64      , 0.64666667,\n",
      "       0.66      , 0.68333333, 0.62      , 0.65333333, 0.69333333])), (0.25, 4, array([0.61      , 0.64333333, 0.67666667, 0.63      , 0.64666667,\n",
      "       0.66      , 0.67333333, 0.61      , 0.63      , 0.69      ])), (0.5, 1, array([0.67333333, 0.66333333, 0.72666667, 0.68      , 0.70333333,\n",
      "       0.69      , 0.71333333, 0.66      , 0.69333333, 0.72333333])), (0.5, 2, array([0.64666667, 0.64666667, 0.69      , 0.66      , 0.67333333,\n",
      "       0.67      , 0.68333333, 0.62666667, 0.66333333, 0.70666667])), (0.5, 3, array([0.62333333, 0.65      , 0.68666667, 0.64      , 0.65333333,\n",
      "       0.66      , 0.68333333, 0.62333333, 0.66      , 0.69333333])), (0.5, 4, array([0.61333333, 0.65      , 0.68      , 0.63333333, 0.64666667,\n",
      "       0.66      , 0.67666667, 0.61333333, 0.63666667, 0.69666667])), (1.0, 1, array([0.68666667, 0.67      , 0.74      , 0.69333333, 0.72666667,\n",
      "       0.7       , 0.71666667, 0.66666667, 0.69333333, 0.73      ])), (1.0, 2, array([0.64666667, 0.64333333, 0.69666667, 0.66      , 0.67333333,\n",
      "       0.67      , 0.69      , 0.64      , 0.66333333, 0.70666667])), (1.0, 3, array([0.62333333, 0.65      , 0.68333333, 0.64      , 0.66      ,\n",
      "       0.66      , 0.68333333, 0.62333333, 0.66      , 0.69333333])), (1.0, 4, array([0.61333333, 0.65      , 0.68666667, 0.64      , 0.65333333,\n",
      "       0.66333333, 0.67333333, 0.62      , 0.65333333, 0.7       ])), (2.0, 1, array([0.69      , 0.67333333, 0.74333333, 0.69333333, 0.73333333,\n",
      "       0.71666667, 0.71666667, 0.68333333, 0.69333333, 0.74666667])), (2.0, 2, array([0.64666667, 0.64333333, 0.69333333, 0.65666667, 0.67666667,\n",
      "       0.67      , 0.69666667, 0.64      , 0.66666667, 0.70666667])), (2.0, 3, array([0.62333333, 0.65333333, 0.68333333, 0.64      , 0.66      ,\n",
      "       0.66      , 0.68      , 0.62333333, 0.66333333, 0.69333333])), (2.0, 4, array([0.62666667, 0.65666667, 0.69333333, 0.64      , 0.66333333,\n",
      "       0.66333333, 0.68333333, 0.62333333, 0.65333333, 0.70666667])), (4.0, 1, array([0.70333333, 0.68      , 0.76      , 0.7       , 0.74333333,\n",
      "       0.73333333, 0.73      , 0.70333333, 0.7       , 0.76666667])), (4.0, 2, array([0.64666667, 0.65333333, 0.69333333, 0.65333333, 0.67333333,\n",
      "       0.66666667, 0.7       , 0.64333333, 0.66666667, 0.71333333])), (4.0, 3, array([0.62666667, 0.65333333, 0.68333333, 0.64333333, 0.66      ,\n",
      "       0.66666667, 0.67666667, 0.62666667, 0.66      , 0.7       ])), (4.0, 4, array([0.63      , 0.65666667, 0.69      , 0.64666667, 0.66666667,\n",
      "       0.67      , 0.68333333, 0.62666667, 0.66      , 0.71      ])), (8.0, 1, array([0.72      , 0.70333333, 0.75333333, 0.71333333, 0.75333333,\n",
      "       0.73333333, 0.72666667, 0.70666667, 0.71333333, 0.77333333])), (8.0, 2, array([0.64666667, 0.66      , 0.7       , 0.66666667, 0.68333333,\n",
      "       0.67666667, 0.70333333, 0.64333333, 0.67333333, 0.71333333])), (8.0, 3, array([0.63      , 0.65666667, 0.68666667, 0.65      , 0.66666667,\n",
      "       0.67333333, 0.68333333, 0.62666667, 0.66333333, 0.71      ])), (8.0, 4, array([0.63      , 0.65666667, 0.69333333, 0.65      , 0.67      ,\n",
      "       0.67      , 0.69      , 0.63      , 0.67      , 0.71333333])), (16.0, 1, array([0.73      , 0.71      , 0.76      , 0.71666667, 0.76      ,\n",
      "       0.72666667, 0.73      , 0.71333333, 0.72      , 0.77333333])), (16.0, 2, array([0.64666667, 0.67333333, 0.7       , 0.67      , 0.69      ,\n",
      "       0.68666667, 0.71666667, 0.65      , 0.67333333, 0.72      ])), (16.0, 3, array([0.64      , 0.66      , 0.69333333, 0.65      , 0.67      ,\n",
      "       0.67      , 0.69      , 0.63666667, 0.66666667, 0.71333333])), (16.0, 4, array([0.64      , 0.66      , 0.69666667, 0.65      , 0.67333333,\n",
      "       0.67666667, 0.69666667, 0.63333333, 0.67      , 0.71333333])), (32.0, 1, array([0.73333333, 0.72      , 0.76      , 0.72666667, 0.76333333,\n",
      "       0.73333333, 0.73333333, 0.72333333, 0.72666667, 0.79      ])), (32.0, 2, array([0.65666667, 0.68      , 0.72333333, 0.67333333, 0.69666667,\n",
      "       0.69333333, 0.71666667, 0.65333333, 0.68333333, 0.72666667])), (32.0, 3, array([0.64333333, 0.66      , 0.69666667, 0.65333333, 0.68      ,\n",
      "       0.67666667, 0.69666667, 0.64333333, 0.67      , 0.72      ])), (32.0, 4, array([0.65      , 0.66333333, 0.7       , 0.65666667, 0.68      ,\n",
      "       0.67666667, 0.7       , 0.64333333, 0.67333333, 0.72333333]))]\n"
     ]
    }
   ],
   "source": [
    "import csv\n",
    "import numpy as np\n",
    "\n",
    "# Specify the file path\n",
    "file_path = 'c_d_scores.csv'\n",
    "\n",
    "# Read data from CSV file\n",
    "data = []\n",
    "with open(file_path, 'r', newline='') as csvfile:\n",
    "    reader = csv.reader(csvfile)\n",
    "    # Skip header\n",
    "    next(reader)\n",
    "    # Read rows\n",
    "    for row in reader:\n",
    "        param1 = float(row[0])\n",
    "        param2 = int(row[1])\n",
    "        # Convert the string of comma-separated values to ndarray\n",
    "        values = np.array(list(map(float, row[2].split(','))))\n",
    "        data.append((param1, param2, values))\n",
    "\n",
    "# Print the read data\n",
    "print(data)"
   ]
  },
  {
   "cell_type": "code",
   "execution_count": 2,
   "metadata": {
    "colab": {
     "base_uri": "https://localhost:8080/"
    },
    "executionInfo": {
     "elapsed": 127,
     "status": "ok",
     "timestamp": 1711062299818,
     "user": {
      "displayName": "Miguel A Gomez De Franco",
      "userId": "00945378091175456648"
     },
     "user_tz": 300
    },
    "id": "59gZVcriz63T",
    "outputId": "440cb866-2562-4ddc-e2ce-2d1e9b9925a0"
   },
   "outputs": [
    {
     "data": {
      "text/plain": [
       "[(0.03125,\n",
       "  1,\n",
       "  array([0.63      , 0.64333333, 0.68333333, 0.65333333, 0.67333333,\n",
       "         0.67      , 0.69333333, 0.64      , 0.65666667, 0.70666667])),\n",
       " (0.03125,\n",
       "  2,\n",
       "  array([0.61666667, 0.65      , 0.67666667, 0.63333333, 0.65      ,\n",
       "         0.66333333, 0.67666667, 0.60666667, 0.63666667, 0.69666667])),\n",
       " (0.03125,\n",
       "  3,\n",
       "  array([0.61      , 0.65      , 0.68      , 0.63666667, 0.65      ,\n",
       "         0.66      , 0.67333333, 0.60666667, 0.64      , 0.68666667])),\n",
       " (0.03125,\n",
       "  4,\n",
       "  array([0.61      , 0.63666667, 0.66666667, 0.62      , 0.64666667,\n",
       "         0.66      , 0.67      , 0.60333333, 0.63      , 0.68666667])),\n",
       " (0.0625,\n",
       "  1,\n",
       "  array([0.63666667, 0.65      , 0.7       , 0.66333333, 0.67333333,\n",
       "         0.67      , 0.69333333, 0.64      , 0.66333333, 0.70333333])),\n",
       " (0.0625,\n",
       "  2,\n",
       "  array([0.62333333, 0.65333333, 0.68333333, 0.64      , 0.65666667,\n",
       "         0.66666667, 0.68333333, 0.62      , 0.64666667, 0.70333333])),\n",
       " (0.0625,\n",
       "  3,\n",
       "  array([0.61666667, 0.65      , 0.68      , 0.63666667, 0.65      ,\n",
       "         0.66      , 0.67333333, 0.61666667, 0.64666667, 0.69333333])),\n",
       " (0.0625,\n",
       "  4,\n",
       "  array([0.61      , 0.64666667, 0.67      , 0.62      , 0.64666667,\n",
       "         0.66      , 0.67      , 0.60666667, 0.63333333, 0.69      ])),\n",
       " (0.125,\n",
       "  1,\n",
       "  array([0.63333333, 0.64666667, 0.69666667, 0.65666667, 0.67333333,\n",
       "         0.66666667, 0.7       , 0.64333333, 0.66333333, 0.70666667])),\n",
       " (0.125,\n",
       "  2,\n",
       "  array([0.62666667, 0.65      , 0.68      , 0.64666667, 0.66666667,\n",
       "         0.67      , 0.68666667, 0.62333333, 0.66333333, 0.70666667])),\n",
       " (0.125,\n",
       "  3,\n",
       "  array([0.62      , 0.65      , 0.68      , 0.64      , 0.64666667,\n",
       "         0.66333333, 0.67666667, 0.61666667, 0.65333333, 0.69333333])),\n",
       " (0.125,\n",
       "  4,\n",
       "  array([0.61      , 0.65      , 0.67666667, 0.62666667, 0.64666667,\n",
       "         0.66      , 0.67333333, 0.61      , 0.63      , 0.69333333])),\n",
       " (0.25,\n",
       "  1,\n",
       "  array([0.64333333, 0.66333333, 0.7       , 0.67666667, 0.68333333,\n",
       "         0.67666667, 0.71666667, 0.64666667, 0.68      , 0.71666667])),\n",
       " (0.25,\n",
       "  2,\n",
       "  array([0.64      , 0.65      , 0.68666667, 0.65333333, 0.67      ,\n",
       "         0.66666667, 0.68666667, 0.62666667, 0.66666667, 0.70666667])),\n",
       " (0.25,\n",
       "  3,\n",
       "  array([0.62333333, 0.65      , 0.68333333, 0.64      , 0.64666667,\n",
       "         0.66      , 0.68333333, 0.62      , 0.65333333, 0.69333333])),\n",
       " (0.25,\n",
       "  4,\n",
       "  array([0.61      , 0.64333333, 0.67666667, 0.63      , 0.64666667,\n",
       "         0.66      , 0.67333333, 0.61      , 0.63      , 0.69      ])),\n",
       " (0.5,\n",
       "  1,\n",
       "  array([0.67333333, 0.66333333, 0.72666667, 0.68      , 0.70333333,\n",
       "         0.69      , 0.71333333, 0.66      , 0.69333333, 0.72333333])),\n",
       " (0.5,\n",
       "  2,\n",
       "  array([0.64666667, 0.64666667, 0.69      , 0.66      , 0.67333333,\n",
       "         0.67      , 0.68333333, 0.62666667, 0.66333333, 0.70666667])),\n",
       " (0.5,\n",
       "  3,\n",
       "  array([0.62333333, 0.65      , 0.68666667, 0.64      , 0.65333333,\n",
       "         0.66      , 0.68333333, 0.62333333, 0.66      , 0.69333333])),\n",
       " (0.5,\n",
       "  4,\n",
       "  array([0.61333333, 0.65      , 0.68      , 0.63333333, 0.64666667,\n",
       "         0.66      , 0.67666667, 0.61333333, 0.63666667, 0.69666667])),\n",
       " (1.0,\n",
       "  1,\n",
       "  array([0.68666667, 0.67      , 0.74      , 0.69333333, 0.72666667,\n",
       "         0.7       , 0.71666667, 0.66666667, 0.69333333, 0.73      ])),\n",
       " (1.0,\n",
       "  2,\n",
       "  array([0.64666667, 0.64333333, 0.69666667, 0.66      , 0.67333333,\n",
       "         0.67      , 0.69      , 0.64      , 0.66333333, 0.70666667])),\n",
       " (1.0,\n",
       "  3,\n",
       "  array([0.62333333, 0.65      , 0.68333333, 0.64      , 0.66      ,\n",
       "         0.66      , 0.68333333, 0.62333333, 0.66      , 0.69333333])),\n",
       " (1.0,\n",
       "  4,\n",
       "  array([0.61333333, 0.65      , 0.68666667, 0.64      , 0.65333333,\n",
       "         0.66333333, 0.67333333, 0.62      , 0.65333333, 0.7       ])),\n",
       " (2.0,\n",
       "  1,\n",
       "  array([0.69      , 0.67333333, 0.74333333, 0.69333333, 0.73333333,\n",
       "         0.71666667, 0.71666667, 0.68333333, 0.69333333, 0.74666667])),\n",
       " (2.0,\n",
       "  2,\n",
       "  array([0.64666667, 0.64333333, 0.69333333, 0.65666667, 0.67666667,\n",
       "         0.67      , 0.69666667, 0.64      , 0.66666667, 0.70666667])),\n",
       " (2.0,\n",
       "  3,\n",
       "  array([0.62333333, 0.65333333, 0.68333333, 0.64      , 0.66      ,\n",
       "         0.66      , 0.68      , 0.62333333, 0.66333333, 0.69333333])),\n",
       " (2.0,\n",
       "  4,\n",
       "  array([0.62666667, 0.65666667, 0.69333333, 0.64      , 0.66333333,\n",
       "         0.66333333, 0.68333333, 0.62333333, 0.65333333, 0.70666667])),\n",
       " (4.0,\n",
       "  1,\n",
       "  array([0.70333333, 0.68      , 0.76      , 0.7       , 0.74333333,\n",
       "         0.73333333, 0.73      , 0.70333333, 0.7       , 0.76666667])),\n",
       " (4.0,\n",
       "  2,\n",
       "  array([0.64666667, 0.65333333, 0.69333333, 0.65333333, 0.67333333,\n",
       "         0.66666667, 0.7       , 0.64333333, 0.66666667, 0.71333333])),\n",
       " (4.0,\n",
       "  3,\n",
       "  array([0.62666667, 0.65333333, 0.68333333, 0.64333333, 0.66      ,\n",
       "         0.66666667, 0.67666667, 0.62666667, 0.66      , 0.7       ])),\n",
       " (4.0,\n",
       "  4,\n",
       "  array([0.63      , 0.65666667, 0.69      , 0.64666667, 0.66666667,\n",
       "         0.67      , 0.68333333, 0.62666667, 0.66      , 0.71      ])),\n",
       " (8.0,\n",
       "  1,\n",
       "  array([0.72      , 0.70333333, 0.75333333, 0.71333333, 0.75333333,\n",
       "         0.73333333, 0.72666667, 0.70666667, 0.71333333, 0.77333333])),\n",
       " (8.0,\n",
       "  2,\n",
       "  array([0.64666667, 0.66      , 0.7       , 0.66666667, 0.68333333,\n",
       "         0.67666667, 0.70333333, 0.64333333, 0.67333333, 0.71333333])),\n",
       " (8.0,\n",
       "  3,\n",
       "  array([0.63      , 0.65666667, 0.68666667, 0.65      , 0.66666667,\n",
       "         0.67333333, 0.68333333, 0.62666667, 0.66333333, 0.71      ])),\n",
       " (8.0,\n",
       "  4,\n",
       "  array([0.63      , 0.65666667, 0.69333333, 0.65      , 0.67      ,\n",
       "         0.67      , 0.69      , 0.63      , 0.67      , 0.71333333])),\n",
       " (16.0,\n",
       "  1,\n",
       "  array([0.73      , 0.71      , 0.76      , 0.71666667, 0.76      ,\n",
       "         0.72666667, 0.73      , 0.71333333, 0.72      , 0.77333333])),\n",
       " (16.0,\n",
       "  2,\n",
       "  array([0.64666667, 0.67333333, 0.7       , 0.67      , 0.69      ,\n",
       "         0.68666667, 0.71666667, 0.65      , 0.67333333, 0.72      ])),\n",
       " (16.0,\n",
       "  3,\n",
       "  array([0.64      , 0.66      , 0.69333333, 0.65      , 0.67      ,\n",
       "         0.67      , 0.69      , 0.63666667, 0.66666667, 0.71333333])),\n",
       " (16.0,\n",
       "  4,\n",
       "  array([0.64      , 0.66      , 0.69666667, 0.65      , 0.67333333,\n",
       "         0.67666667, 0.69666667, 0.63333333, 0.67      , 0.71333333])),\n",
       " (32.0,\n",
       "  1,\n",
       "  array([0.73333333, 0.72      , 0.76      , 0.72666667, 0.76333333,\n",
       "         0.73333333, 0.73333333, 0.72333333, 0.72666667, 0.79      ])),\n",
       " (32.0,\n",
       "  2,\n",
       "  array([0.65666667, 0.68      , 0.72333333, 0.67333333, 0.69666667,\n",
       "         0.69333333, 0.71666667, 0.65333333, 0.68333333, 0.72666667])),\n",
       " (32.0,\n",
       "  3,\n",
       "  array([0.64333333, 0.66      , 0.69666667, 0.65333333, 0.68      ,\n",
       "         0.67666667, 0.69666667, 0.64333333, 0.67      , 0.72      ])),\n",
       " (32.0,\n",
       "  4,\n",
       "  array([0.65      , 0.66333333, 0.7       , 0.65666667, 0.68      ,\n",
       "         0.67666667, 0.7       , 0.64333333, 0.67333333, 0.72333333]))]"
      ]
     },
     "execution_count": 2,
     "metadata": {},
     "output_type": "execute_result"
    }
   ],
   "source": [
    "data"
   ]
  },
  {
   "cell_type": "markdown",
   "metadata": {
    "id": "BIgEmhxaNhAg"
   },
   "source": [
    "#### Part 3 (**4 pts**)"
   ]
  },
  {
   "cell_type": "code",
   "execution_count": 7,
   "metadata": {
    "colab": {
     "base_uri": "https://localhost:8080/"
    },
    "executionInfo": {
     "elapsed": 111,
     "status": "ok",
     "timestamp": 1711062344369,
     "user": {
      "displayName": "Miguel A Gomez De Franco",
      "userId": "00945378091175456648"
     },
     "user_tz": 300
    },
    "id": "hF58e5zafUF0",
    "outputId": "ce99827b-326e-48df-dd7c-06ea82a73cf6"
   },
   "outputs": [
    {
     "data": {
      "text/plain": [
       "[(1, 0.03125, 0.665),\n",
       " (1, 0.0625, 0.6693333333333332),\n",
       " (1, 0.125, 0.6686666666666666),\n",
       " (1, 0.25, 0.6803333333333332),\n",
       " (1, 0.5, 0.6926666666666667),\n",
       " (1, 1.0, 0.7023333333333334),\n",
       " (1, 2.0, 0.709),\n",
       " (1, 4.0, 0.7220000000000001),\n",
       " (1, 8.0, 0.7296666666666667),\n",
       " (1, 16.0, 0.734),\n",
       " (1, 32.0, 0.7409999999999999),\n",
       " (2, 0.03125, 0.6506666666666667),\n",
       " (2, 0.0625, 0.6576666666666666),\n",
       " (2, 0.125, 0.662),\n",
       " (2, 0.25, 0.6653333333333334),\n",
       " (2, 0.5, 0.6666666666666667),\n",
       " (2, 1.0, 0.669),\n",
       " (2, 2.0, 0.6696666666666669),\n",
       " (2, 4.0, 0.671),\n",
       " (2, 8.0, 0.6766666666666665),\n",
       " (2, 16.0, 0.6826666666666668),\n",
       " (2, 32.0, 0.6903333333333335),\n",
       " (3, 0.03125, 0.6493333333333333),\n",
       " (3, 0.0625, 0.6523333333333333),\n",
       " (3, 0.125, 0.654),\n",
       " (3, 0.25, 0.6553333333333333),\n",
       " (3, 0.5, 0.6573333333333334),\n",
       " (3, 1.0, 0.6576666666666667),\n",
       " (3, 2.0, 0.6579999999999999),\n",
       " (3, 4.0, 0.6596666666666666),\n",
       " (3, 8.0, 0.6646666666666666),\n",
       " (3, 16.0, 0.6690000000000002),\n",
       " (3, 32.0, 0.6739999999999999),\n",
       " (4, 0.03125, 0.643),\n",
       " (4, 0.0625, 0.6453333333333333),\n",
       " (4, 0.125, 0.6476666666666666),\n",
       " (4, 0.25, 0.647),\n",
       " (4, 0.5, 0.6506666666666667),\n",
       " (4, 1.0, 0.6553333333333333),\n",
       " (4, 2.0, 0.661),\n",
       " (4, 4.0, 0.6639999999999999),\n",
       " (4, 8.0, 0.6673333333333333),\n",
       " (4, 16.0, 0.6709999999999999),\n",
       " (4, 32.0, 0.6766666666666666)]"
      ]
     },
     "execution_count": 7,
     "metadata": {},
     "output_type": "execute_result"
    }
   ],
   "source": [
    "# re-organize c_d_scores_avg matrix for plotting\n",
    "i = 0\n",
    "d_c_scores_avg = []\n",
    "for j in range(4):\n",
    "  i = j\n",
    "  while i < len(c_d_scores_avg):\n",
    "    d_c_scores_avg.append((c_d_scores_avg[i][1], c_d_scores_avg[i][0], c_d_scores_avg[i][2]))\n",
    "    i = i+4\n",
    "d_c_scores_avg"
   ]
  },
  {
   "cell_type": "code",
   "execution_count": 8,
   "metadata": {
    "executionInfo": {
     "elapsed": 86,
     "status": "ok",
     "timestamp": 1711062347263,
     "user": {
      "displayName": "Miguel A Gomez De Franco",
      "userId": "00945378091175456648"
     },
     "user_tz": 300
    },
    "id": "mH2Y7RS9gall"
   },
   "outputs": [],
   "source": [
    "d_c_scores_avg_arr = np.array(d_c_scores_avg)"
   ]
  },
  {
   "cell_type": "code",
   "execution_count": 37,
   "metadata": {
    "colab": {
     "base_uri": "https://localhost:8080/",
     "height": 472
    },
    "executionInfo": {
     "elapsed": 648,
     "status": "ok",
     "timestamp": 1711067554015,
     "user": {
      "displayName": "Miguel A Gomez De Franco",
      "userId": "00945378091175456648"
     },
     "user_tz": 300
    },
    "id": "fErs0N5eqIII",
    "outputId": "d0a83c50-a4a7-48cd-8b98-d91c37511687"
   },
   "outputs": [
    {
     "data": {
      "image/png": "[encoded data removed]",
      "text/plain": [
       "<Figure size 640x480 with 1 Axes>"
      ]
     },
     "metadata": {},
     "output_type": "display_data"
    }
   ],
   "source": [
    "plt.plot(d_c_scores_avg_arr[0:11,1], d_c_scores_avg_arr[0:11,2], label=\"degrees = {}\".format(d_c_scores_avg_arr[0,0]))\n",
    "plt.plot(d_c_scores_avg_arr[11:22,1], d_c_scores_avg_arr[11:22,2], label=\"degrees = {}\".format(d_c_scores_avg_arr[11,0]))\n",
    "plt.plot(d_c_scores_avg_arr[22:33,1], d_c_scores_avg_arr[22:33,2], label=\"degrees = {}\".format(d_c_scores_avg_arr[22,0]))\n",
    "plt.plot(d_c_scores_avg_arr[33:44,1], d_c_scores_avg_arr[33:44,2], label=\"degrees = {}\".format(d_c_scores_avg_arr[33,0]))\n",
    "plt.xlabel('Cost (Regularization) parameter C')\n",
    "plt.ylabel('Average Cross Validation Error')\n",
    "plt.title('Avg CV Error vs Cost (C)')\n",
    "# plt.xscale('log')\n",
    "# plt.xticks(d_c_scores_avg_arr[0:11,1], rotation='vertical')\n",
    "# plt.tick_params(axis='x', which='major', pad=10)\n",
    "plt.legend()\n",
    "plt.show()"
   ]
  },
  {
   "cell_type": "code",
   "execution_count": 14,
   "metadata": {
    "colab": {
     "base_uri": "https://localhost:8080/"
    },
    "executionInfo": {
     "elapsed": 95,
     "status": "ok",
     "timestamp": 1711066034507,
     "user": {
      "displayName": "Miguel A Gomez De Franco",
      "userId": "00945378091175456648"
     },
     "user_tz": 300
    },
    "id": "B7ipnQkL2idv",
    "outputId": "0c389575-f3c8-45e9-86b4-609d009707f5"
   },
   "outputs": [
    {
     "name": "stdout",
     "output_type": "stream",
     "text": [
      "C* = 0.03125, d* = 4\n"
     ]
    }
   ],
   "source": [
    "best_score = np.min(d_c_scores_avg_arr[:,2])\n",
    "best_c_row = np.where(d_c_scores_avg_arr[:,2]== best_score)[0]\n",
    "best_c = d_c_scores_avg_arr[best_c_row,1][0]\n",
    "best_d = int(d_c_scores_avg_arr[best_c_row,0][0])\n",
    "print(\"C* = {}, d* = {}\".format(best_c, best_d))"
   ]
  },
  {
   "cell_type": "code",
   "execution_count": 23,
   "metadata": {
    "executionInfo": {
     "elapsed": 11267,
     "status": "ok",
     "timestamp": 1711066627787,
     "user": {
      "displayName": "Miguel A Gomez De Franco",
      "userId": "00945378091175456648"
     },
     "user_tz": 300
    },
    "id": "WNAVnk57fZea"
   },
   "outputs": [],
   "source": [
    "# get test errors for all possible degrees using C*\n",
    "from sklearn.metrics import accuracy_score\n",
    "errors = []\n",
    "for d in degrees:\n",
    "  mySVM_model = svm.SVC(kernel='poly', C=best_c, degree=d)\n",
    "  mySVM_model.fit(x_train, y_train)\n",
    "  svm_y_predicted = mySVM_model.predict(x_test)\n",
    "  errors.append(accuracy_score(y_test, svm_y_predicted))"
   ]
  },
  {
   "cell_type": "code",
   "execution_count": 26,
   "metadata": {
    "colab": {
     "base_uri": "https://localhost:8080/",
     "height": 472
    },
    "executionInfo": {
     "elapsed": 541,
     "status": "ok",
     "timestamp": 1711066746356,
     "user": {
      "displayName": "Miguel A Gomez De Franco",
      "userId": "00945378091175456648"
     },
     "user_tz": 300
    },
    "id": "Xjed3YfChMmC",
    "outputId": "0ffd6db8-2848-4953-f682-dec079ffcc46"
   },
   "outputs": [
    {
     "data": {
      "image/png": "[encoded data removed]",
      "text/plain": [
       "<Figure size 640x480 with 1 Axes>"
      ]
     },
     "metadata": {},
     "output_type": "display_data"
    }
   ],
   "source": [
    "plt.plot(degrees, errors)\n",
    "plt.xlabel('Degrees')\n",
    "plt.ylabel('Test error Error')\n",
    "plt.title(\"Test error using C*={}\".format(best_c))\n",
    "plt.show()"
   ]
  },
  {
   "cell_type": "code",
   "execution_count": 29,
   "metadata": {
    "executionInfo": {
     "elapsed": 81,
     "status": "ok",
     "timestamp": 1711067131486,
     "user": {
      "displayName": "Miguel A Gomez De Franco",
      "userId": "00945378091175456648"
     },
     "user_tz": 300
    },
    "id": "D_fMuZc7hsfR"
   },
   "outputs": [],
   "source": [
    "scores = [row[2] for row in c_d_scores[:4]]"
   ]
  },
  {
   "cell_type": "code",
   "execution_count": 33,
   "metadata": {
    "executionInfo": {
     "elapsed": 105,
     "status": "ok",
     "timestamp": 1711067286523,
     "user": {
      "displayName": "Miguel A Gomez De Franco",
      "userId": "00945378091175456648"
     },
     "user_tz": 300
    },
    "id": "9AWzczefjHmN"
   },
   "outputs": [],
   "source": [
    "for i in range(len(scores)):\n",
    "  scores[i] = np.mean(scores[i])"
   ]
  },
  {
   "cell_type": "code",
   "execution_count": 36,
   "metadata": {
    "colab": {
     "base_uri": "https://localhost:8080/",
     "height": 472
    },
    "executionInfo": {
     "elapsed": 608,
     "status": "ok",
     "timestamp": 1711067410947,
     "user": {
      "displayName": "Miguel A Gomez De Franco",
      "userId": "00945378091175456648"
     },
     "user_tz": 300
    },
    "id": "PaL5OGvkjtSD",
    "outputId": "e5d567dc-7b11-41ca-f6a8-8a9ce7ee56c4"
   },
   "outputs": [
    {
     "data": {
      "image/png": "[encoded data removed]",
      "text/plain": [
       "<Figure size 640x480 with 1 Axes>"
      ]
     },
     "metadata": {},
     "output_type": "display_data"
    }
   ],
   "source": [
    "plt.plot(degrees, scores)\n",
    "plt.xlabel('Degrees')\n",
    "plt.ylabel('10-fold CV Error')\n",
    "plt.title(\"10-Fold CV Scores using C*={} for all degrees\".format(best_c))\n",
    "plt.show()"
   ]
  },
  {
   "cell_type": "code",
   "execution_count": null,
   "metadata": {
    "colab": {
     "base_uri": "https://localhost:8080/"
    },
    "executionInfo": {
     "elapsed": 57952,
     "status": "ok",
     "timestamp": 1710990360115,
     "user": {
      "displayName": "Miguel A Gomez De Franco",
      "userId": "00945378091175456648"
     },
     "user_tz": 300
    },
    "id": "AN9L_0Kr9H2W",
    "outputId": "a05c6f9a-781a-4266-e005-042a511ffcf9"
   },
   "outputs": [
    {
     "data": {
      "text/plain": [
       "array([0.61      , 0.63666667, 0.66666667, 0.62      , 0.64666667,\n",
       "       0.66      , 0.67      , 0.60333333, 0.63      , 0.68666667])"
      ]
     },
     "execution_count": 84,
     "metadata": {},
     "output_type": "execute_result"
    }
   ],
   "source": [
    "cross_val_score(mySVM_model, X=x_train, y=y_train, cv=kf, verbose=1)"
   ]
  },
  {
   "cell_type": "code",
   "execution_count": 27,
   "metadata": {
    "colab": {
     "base_uri": "https://localhost:8080/"
    },
    "executionInfo": {
     "elapsed": 88,
     "status": "ok",
     "timestamp": 1711066762543,
     "user": {
      "displayName": "Miguel A Gomez De Franco",
      "userId": "00945378091175456648"
     },
     "user_tz": 300
    },
    "id": "1juthYNz49Kf",
    "outputId": "7d11c08f-c98d-432c-fac2-2d7a4525e6dc"
   },
   "outputs": [
    {
     "data": {
      "text/plain": [
       "[(0.03125,\n",
       "  1,\n",
       "  array([0.63      , 0.64333333, 0.68333333, 0.65333333, 0.67333333,\n",
       "         0.67      , 0.69333333, 0.64      , 0.65666667, 0.70666667])),\n",
       " (0.03125,\n",
       "  2,\n",
       "  array([0.61666667, 0.65      , 0.67666667, 0.63333333, 0.65      ,\n",
       "         0.66333333, 0.67666667, 0.60666667, 0.63666667, 0.69666667])),\n",
       " (0.03125,\n",
       "  3,\n",
       "  array([0.61      , 0.65      , 0.68      , 0.63666667, 0.65      ,\n",
       "         0.66      , 0.67333333, 0.60666667, 0.64      , 0.68666667])),\n",
       " (0.03125,\n",
       "  4,\n",
       "  array([0.61      , 0.63666667, 0.66666667, 0.62      , 0.64666667,\n",
       "         0.66      , 0.67      , 0.60333333, 0.63      , 0.68666667])),\n",
       " (0.0625,\n",
       "  1,\n",
       "  array([0.63666667, 0.65      , 0.7       , 0.66333333, 0.67333333,\n",
       "         0.67      , 0.69333333, 0.64      , 0.66333333, 0.70333333])),\n",
       " (0.0625,\n",
       "  2,\n",
       "  array([0.62333333, 0.65333333, 0.68333333, 0.64      , 0.65666667,\n",
       "         0.66666667, 0.68333333, 0.62      , 0.64666667, 0.70333333])),\n",
       " (0.0625,\n",
       "  3,\n",
       "  array([0.61666667, 0.65      , 0.68      , 0.63666667, 0.65      ,\n",
       "         0.66      , 0.67333333, 0.61666667, 0.64666667, 0.69333333])),\n",
       " (0.0625,\n",
       "  4,\n",
       "  array([0.61      , 0.64666667, 0.67      , 0.62      , 0.64666667,\n",
       "         0.66      , 0.67      , 0.60666667, 0.63333333, 0.69      ])),\n",
       " (0.125,\n",
       "  1,\n",
       "  array([0.63333333, 0.64666667, 0.69666667, 0.65666667, 0.67333333,\n",
       "         0.66666667, 0.7       , 0.64333333, 0.66333333, 0.70666667])),\n",
       " (0.125,\n",
       "  2,\n",
       "  array([0.62666667, 0.65      , 0.68      , 0.64666667, 0.66666667,\n",
       "         0.67      , 0.68666667, 0.62333333, 0.66333333, 0.70666667])),\n",
       " (0.125,\n",
       "  3,\n",
       "  array([0.62      , 0.65      , 0.68      , 0.64      , 0.64666667,\n",
       "         0.66333333, 0.67666667, 0.61666667, 0.65333333, 0.69333333])),\n",
       " (0.125,\n",
       "  4,\n",
       "  array([0.61      , 0.65      , 0.67666667, 0.62666667, 0.64666667,\n",
       "         0.66      , 0.67333333, 0.61      , 0.63      , 0.69333333])),\n",
       " (0.25,\n",
       "  1,\n",
       "  array([0.64333333, 0.66333333, 0.7       , 0.67666667, 0.68333333,\n",
       "         0.67666667, 0.71666667, 0.64666667, 0.68      , 0.71666667])),\n",
       " (0.25,\n",
       "  2,\n",
       "  array([0.64      , 0.65      , 0.68666667, 0.65333333, 0.67      ,\n",
       "         0.66666667, 0.68666667, 0.62666667, 0.66666667, 0.70666667])),\n",
       " (0.25,\n",
       "  3,\n",
       "  array([0.62333333, 0.65      , 0.68333333, 0.64      , 0.64666667,\n",
       "         0.66      , 0.68333333, 0.62      , 0.65333333, 0.69333333])),\n",
       " (0.25,\n",
       "  4,\n",
       "  array([0.61      , 0.64333333, 0.67666667, 0.63      , 0.64666667,\n",
       "         0.66      , 0.67333333, 0.61      , 0.63      , 0.69      ])),\n",
       " (0.5,\n",
       "  1,\n",
       "  array([0.67333333, 0.66333333, 0.72666667, 0.68      , 0.70333333,\n",
       "         0.69      , 0.71333333, 0.66      , 0.69333333, 0.72333333])),\n",
       " (0.5,\n",
       "  2,\n",
       "  array([0.64666667, 0.64666667, 0.69      , 0.66      , 0.67333333,\n",
       "         0.67      , 0.68333333, 0.62666667, 0.66333333, 0.70666667])),\n",
       " (0.5,\n",
       "  3,\n",
       "  array([0.62333333, 0.65      , 0.68666667, 0.64      , 0.65333333,\n",
       "         0.66      , 0.68333333, 0.62333333, 0.66      , 0.69333333])),\n",
       " (0.5,\n",
       "  4,\n",
       "  array([0.61333333, 0.65      , 0.68      , 0.63333333, 0.64666667,\n",
       "         0.66      , 0.67666667, 0.61333333, 0.63666667, 0.69666667])),\n",
       " (1.0,\n",
       "  1,\n",
       "  array([0.68666667, 0.67      , 0.74      , 0.69333333, 0.72666667,\n",
       "         0.7       , 0.71666667, 0.66666667, 0.69333333, 0.73      ])),\n",
       " (1.0,\n",
       "  2,\n",
       "  array([0.64666667, 0.64333333, 0.69666667, 0.66      , 0.67333333,\n",
       "         0.67      , 0.69      , 0.64      , 0.66333333, 0.70666667])),\n",
       " (1.0,\n",
       "  3,\n",
       "  array([0.62333333, 0.65      , 0.68333333, 0.64      , 0.66      ,\n",
       "         0.66      , 0.68333333, 0.62333333, 0.66      , 0.69333333])),\n",
       " (1.0,\n",
       "  4,\n",
       "  array([0.61333333, 0.65      , 0.68666667, 0.64      , 0.65333333,\n",
       "         0.66333333, 0.67333333, 0.62      , 0.65333333, 0.7       ])),\n",
       " (2.0,\n",
       "  1,\n",
       "  array([0.69      , 0.67333333, 0.74333333, 0.69333333, 0.73333333,\n",
       "         0.71666667, 0.71666667, 0.68333333, 0.69333333, 0.74666667])),\n",
       " (2.0,\n",
       "  2,\n",
       "  array([0.64666667, 0.64333333, 0.69333333, 0.65666667, 0.67666667,\n",
       "         0.67      , 0.69666667, 0.64      , 0.66666667, 0.70666667])),\n",
       " (2.0,\n",
       "  3,\n",
       "  array([0.62333333, 0.65333333, 0.68333333, 0.64      , 0.66      ,\n",
       "         0.66      , 0.68      , 0.62333333, 0.66333333, 0.69333333])),\n",
       " (2.0,\n",
       "  4,\n",
       "  array([0.62666667, 0.65666667, 0.69333333, 0.64      , 0.66333333,\n",
       "         0.66333333, 0.68333333, 0.62333333, 0.65333333, 0.70666667])),\n",
       " (4.0,\n",
       "  1,\n",
       "  array([0.70333333, 0.68      , 0.76      , 0.7       , 0.74333333,\n",
       "         0.73333333, 0.73      , 0.70333333, 0.7       , 0.76666667])),\n",
       " (4.0,\n",
       "  2,\n",
       "  array([0.64666667, 0.65333333, 0.69333333, 0.65333333, 0.67333333,\n",
       "         0.66666667, 0.7       , 0.64333333, 0.66666667, 0.71333333])),\n",
       " (4.0,\n",
       "  3,\n",
       "  array([0.62666667, 0.65333333, 0.68333333, 0.64333333, 0.66      ,\n",
       "         0.66666667, 0.67666667, 0.62666667, 0.66      , 0.7       ])),\n",
       " (4.0,\n",
       "  4,\n",
       "  array([0.63      , 0.65666667, 0.69      , 0.64666667, 0.66666667,\n",
       "         0.67      , 0.68333333, 0.62666667, 0.66      , 0.71      ])),\n",
       " (8.0,\n",
       "  1,\n",
       "  array([0.72      , 0.70333333, 0.75333333, 0.71333333, 0.75333333,\n",
       "         0.73333333, 0.72666667, 0.70666667, 0.71333333, 0.77333333])),\n",
       " (8.0,\n",
       "  2,\n",
       "  array([0.64666667, 0.66      , 0.7       , 0.66666667, 0.68333333,\n",
       "         0.67666667, 0.70333333, 0.64333333, 0.67333333, 0.71333333])),\n",
       " (8.0,\n",
       "  3,\n",
       "  array([0.63      , 0.65666667, 0.68666667, 0.65      , 0.66666667,\n",
       "         0.67333333, 0.68333333, 0.62666667, 0.66333333, 0.71      ])),\n",
       " (8.0,\n",
       "  4,\n",
       "  array([0.63      , 0.65666667, 0.69333333, 0.65      , 0.67      ,\n",
       "         0.67      , 0.69      , 0.63      , 0.67      , 0.71333333])),\n",
       " (16.0,\n",
       "  1,\n",
       "  array([0.73      , 0.71      , 0.76      , 0.71666667, 0.76      ,\n",
       "         0.72666667, 0.73      , 0.71333333, 0.72      , 0.77333333])),\n",
       " (16.0,\n",
       "  2,\n",
       "  array([0.64666667, 0.67333333, 0.7       , 0.67      , 0.69      ,\n",
       "         0.68666667, 0.71666667, 0.65      , 0.67333333, 0.72      ])),\n",
       " (16.0,\n",
       "  3,\n",
       "  array([0.64      , 0.66      , 0.69333333, 0.65      , 0.67      ,\n",
       "         0.67      , 0.69      , 0.63666667, 0.66666667, 0.71333333])),\n",
       " (16.0,\n",
       "  4,\n",
       "  array([0.64      , 0.66      , 0.69666667, 0.65      , 0.67333333,\n",
       "         0.67666667, 0.69666667, 0.63333333, 0.67      , 0.71333333])),\n",
       " (32.0,\n",
       "  1,\n",
       "  array([0.73333333, 0.72      , 0.76      , 0.72666667, 0.76333333,\n",
       "         0.73333333, 0.73333333, 0.72333333, 0.72666667, 0.79      ])),\n",
       " (32.0,\n",
       "  2,\n",
       "  array([0.65666667, 0.68      , 0.72333333, 0.67333333, 0.69666667,\n",
       "         0.69333333, 0.71666667, 0.65333333, 0.68333333, 0.72666667])),\n",
       " (32.0,\n",
       "  3,\n",
       "  array([0.64333333, 0.66      , 0.69666667, 0.65333333, 0.68      ,\n",
       "         0.67666667, 0.69666667, 0.64333333, 0.67      , 0.72      ])),\n",
       " (32.0,\n",
       "  4,\n",
       "  array([0.65      , 0.66333333, 0.7       , 0.65666667, 0.68      ,\n",
       "         0.67666667, 0.7       , 0.64333333, 0.67333333, 0.72333333]))]"
      ]
     },
     "execution_count": 27,
     "metadata": {},
     "output_type": "execute_result"
    }
   ],
   "source": [
    "c_d_scores"
   ]
  }
 ],
 "metadata": {
  "colab": {
   "provenance": []
  },
  "kernelspec": {
   "display_name": "Python 3 (ipykernel)",
   "language": "python",
   "name": "python3"
  },
  "language_info": {
   "codemirror_mode": {
    "name": "ipython",
    "version": 3
   },
   "file_extension": ".py",
   "mimetype": "text/x-python",
   "name": "python",
   "nbconvert_exporter": "python",
   "pygments_lexer": "ipython3",
   "version": "3.9.13"
  }
 },
 "nbformat": 4,
 "nbformat_minor": 4
}
